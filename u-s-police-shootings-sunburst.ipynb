{
 "cells": [
  {
   "cell_type": "code",
   "execution_count": 1,
   "id": "447b9e3f",
   "metadata": {
    "_cell_guid": "b1076dfc-b9ad-4769-8c92-a6c4dae69d19",
    "_uuid": "8f2839f25d086af736a60e9eeb907d3b93b6e0e5",
    "execution": {
     "iopub.execute_input": "2021-10-07T06:22:01.916655Z",
     "iopub.status.busy": "2021-10-07T06:22:01.915694Z",
     "iopub.status.idle": "2021-10-07T06:22:03.620502Z",
     "shell.execute_reply": "2021-10-07T06:22:03.621032Z",
     "shell.execute_reply.started": "2021-10-07T05:55:09.521356Z"
    },
    "papermill": {
     "duration": 1.73212,
     "end_time": "2021-10-07T06:22:03.621403",
     "exception": false,
     "start_time": "2021-10-07T06:22:01.889283",
     "status": "completed"
    },
    "tags": []
   },
   "outputs": [
    {
     "name": "stdout",
     "output_type": "stream",
     "text": [
      "/kaggle/input/us-police-shootings-20132020/USPoliceViolence.csv\n"
     ]
    }
   ],
   "source": [
    "# This Python 3 environment comes with many helpful analytics libraries installed\n",
    "# It is defined by the kaggle/python Docker image: https://github.com/kaggle/docker-python\n",
    "# For example, here's several helpful packages to load\n",
    "\n",
    "import numpy as np # linear algebra\n",
    "import pandas as pd # data processing, CSV file I/O (e.g. pd.read_csv)\n",
    "import plotly.express as px\n",
    "\n",
    "# Input data files are available in the read-only \"../input/\" directory\n",
    "# For example, running this (by clicking run or pressing Shift+Enter) will list all files under the input directory\n",
    "\n",
    "import os\n",
    "for dirname, _, filenames in os.walk('/kaggle/input'):\n",
    "    for filename in filenames:\n",
    "        print(os.path.join(dirname, filename))\n"
   ]
  },
  {
   "cell_type": "markdown",
   "id": "ddaa9d95",
   "metadata": {
    "papermill": {
     "duration": 0.011149,
     "end_time": "2021-10-07T06:22:03.644691",
     "exception": false,
     "start_time": "2021-10-07T06:22:03.633542",
     "status": "completed"
    },
    "tags": []
   },
   "source": [
    "**Intro**\n",
    "\n",
    "The following analysis delves into police violence in the US using various interactive sunburst visuals which illustrate the statistics of the states with the highest number of police shootings, New York, California, and Texas. \n",
    "\n",
    "There are four sunburst graphs below which focus on analyzing the Armed status of the victim, location, race, gender and age. And also, an additional fifth, which looks at how many victims were Fleeing or not. \n",
    "\n",
    "Click on one of the brances/leaves in order to extend that section and gain a clearer look at the data. "
   ]
  },
  {
   "cell_type": "code",
   "execution_count": 2,
   "id": "19d3eb1b",
   "metadata": {
    "execution": {
     "iopub.execute_input": "2021-10-07T06:22:03.673170Z",
     "iopub.status.busy": "2021-10-07T06:22:03.672509Z",
     "iopub.status.idle": "2021-10-07T06:22:03.769128Z",
     "shell.execute_reply": "2021-10-07T06:22:03.768530Z",
     "shell.execute_reply.started": "2021-10-07T05:55:11.274117Z"
    },
    "papermill": {
     "duration": 0.113542,
     "end_time": "2021-10-07T06:22:03.769288",
     "exception": false,
     "start_time": "2021-10-07T06:22:03.655746",
     "status": "completed"
    },
    "tags": []
   },
   "outputs": [],
   "source": [
    "df = pd.read_csv('../input/us-police-shootings-20132020/USPoliceViolence.csv')"
   ]
  },
  {
   "cell_type": "code",
   "execution_count": 3,
   "id": "0a99e5ca",
   "metadata": {
    "execution": {
     "iopub.execute_input": "2021-10-07T06:22:03.817157Z",
     "iopub.status.busy": "2021-10-07T06:22:03.802421Z",
     "iopub.status.idle": "2021-10-07T06:22:03.841679Z",
     "shell.execute_reply": "2021-10-07T06:22:03.841099Z",
     "shell.execute_reply.started": "2021-10-07T06:01:49.524396Z"
    },
    "papermill": {
     "duration": 0.059609,
     "end_time": "2021-10-07T06:22:03.841833",
     "exception": false,
     "start_time": "2021-10-07T06:22:03.782224",
     "status": "completed"
    },
    "tags": []
   },
   "outputs": [],
   "source": [
    "df[\"Victim's age\"] = pd.to_numeric(df[\"Victim's age\"], errors='coerce').fillna(0).astype(np.int64)\n",
    "\n",
    "df.rename(columns={'Fleeing (Source: WaPo)': 'Fleeing',\n",
    "                   \"Alleged Weapon (Source: WaPo and Review of Cases Not Included in WaPo Database)\": \"Alleged Weapon\"},\n",
    "          inplace=True)\n",
    "df[\"Armed/Unarmed Status\"].replace({\"Unarmed/Did Not Have Actual Weapon\": \"Unarmed\"}, inplace=True)\n",
    "\n",
    "\n",
    "df = df[df[\"State\"].isin(['NY', 'CA', 'TX'])]\n",
    "df = df[df[\"Victim's race\"].isin([\"White\", \"Black\", \"Hispanic\", \"Asian\"])]\n"
   ]
  },
  {
   "cell_type": "code",
   "execution_count": 4,
   "id": "7556b372",
   "metadata": {
    "execution": {
     "iopub.execute_input": "2021-10-07T06:22:03.875355Z",
     "iopub.status.busy": "2021-10-07T06:22:03.874294Z",
     "iopub.status.idle": "2021-10-07T06:22:03.897775Z",
     "shell.execute_reply": "2021-10-07T06:22:03.897244Z",
     "shell.execute_reply.started": "2021-10-07T06:20:44.777643Z"
    },
    "papermill": {
     "duration": 0.043454,
     "end_time": "2021-10-07T06:22:03.897922",
     "exception": false,
     "start_time": "2021-10-07T06:22:03.854468",
     "status": "completed"
    },
    "tags": []
   },
   "outputs": [
    {
     "data": {
      "text/html": [
       "<div>\n",
       "<style scoped>\n",
       "    .dataframe tbody tr th:only-of-type {\n",
       "        vertical-align: middle;\n",
       "    }\n",
       "\n",
       "    .dataframe tbody tr th {\n",
       "        vertical-align: top;\n",
       "    }\n",
       "\n",
       "    .dataframe thead th {\n",
       "        text-align: right;\n",
       "    }\n",
       "</style>\n",
       "<table border=\"1\" class=\"dataframe\">\n",
       "  <thead>\n",
       "    <tr style=\"text-align: right;\">\n",
       "      <th></th>\n",
       "      <th>Unnamed: 0</th>\n",
       "      <th>Victim's name</th>\n",
       "      <th>Victim's age</th>\n",
       "      <th>Victim's gender</th>\n",
       "      <th>Victim's race</th>\n",
       "      <th>Date of Incident (month/day/year)</th>\n",
       "      <th>City</th>\n",
       "      <th>State</th>\n",
       "      <th>Zipcode</th>\n",
       "      <th>Agency responsible for death</th>\n",
       "      <th>Cause of death</th>\n",
       "      <th>Criminal Charges?</th>\n",
       "      <th>Symptoms of mental illness?</th>\n",
       "      <th>Alleged Weapon</th>\n",
       "      <th>Alleged Threat Level (Source: WaPo)</th>\n",
       "      <th>Fleeing</th>\n",
       "      <th>Armed/Unarmed Status</th>\n",
       "    </tr>\n",
       "  </thead>\n",
       "  <tbody>\n",
       "    <tr>\n",
       "      <th>3</th>\n",
       "      <td>3</td>\n",
       "      <td>Deon Ledet</td>\n",
       "      <td>30</td>\n",
       "      <td>Male</td>\n",
       "      <td>Black</td>\n",
       "      <td>2021-09-20</td>\n",
       "      <td>Houston</td>\n",
       "      <td>TX</td>\n",
       "      <td>NaN</td>\n",
       "      <td>Houston Police Department</td>\n",
       "      <td>Gunshot</td>\n",
       "      <td>No known charges</td>\n",
       "      <td>No</td>\n",
       "      <td>gun</td>\n",
       "      <td>attack</td>\n",
       "      <td>not fleeing</td>\n",
       "      <td>Allegedly Armed</td>\n",
       "    </tr>\n",
       "    <tr>\n",
       "      <th>19</th>\n",
       "      <td>19</td>\n",
       "      <td>Anthony Cravo</td>\n",
       "      <td>52</td>\n",
       "      <td>Male</td>\n",
       "      <td>White</td>\n",
       "      <td>2021-09-07</td>\n",
       "      <td>Lufkin</td>\n",
       "      <td>TX</td>\n",
       "      <td>75901.0</td>\n",
       "      <td>Lufkin Police Department</td>\n",
       "      <td>Gunshot</td>\n",
       "      <td>No known charges</td>\n",
       "      <td>No</td>\n",
       "      <td>gun</td>\n",
       "      <td>attack</td>\n",
       "      <td>not fleeing</td>\n",
       "      <td>Allegedly Armed</td>\n",
       "    </tr>\n",
       "    <tr>\n",
       "      <th>26</th>\n",
       "      <td>26</td>\n",
       "      <td>Cedric Baxter</td>\n",
       "      <td>60</td>\n",
       "      <td>Male</td>\n",
       "      <td>Black</td>\n",
       "      <td>2021-09-03</td>\n",
       "      <td>Buena Park</td>\n",
       "      <td>CA</td>\n",
       "      <td>NaN</td>\n",
       "      <td>Buena Park Police Department</td>\n",
       "      <td>Gunshot</td>\n",
       "      <td>No known charges</td>\n",
       "      <td>Unclear</td>\n",
       "      <td>undetermined</td>\n",
       "      <td>other</td>\n",
       "      <td>car</td>\n",
       "      <td>Unclear</td>\n",
       "    </tr>\n",
       "    <tr>\n",
       "      <th>27</th>\n",
       "      <td>27</td>\n",
       "      <td>Estevan Ramriez</td>\n",
       "      <td>18</td>\n",
       "      <td>Male</td>\n",
       "      <td>Hispanic</td>\n",
       "      <td>2021-09-03</td>\n",
       "      <td>Fort Worth</td>\n",
       "      <td>TX</td>\n",
       "      <td>NaN</td>\n",
       "      <td>Fort Worth Police Department</td>\n",
       "      <td>Gunshot</td>\n",
       "      <td>No known charges</td>\n",
       "      <td>No</td>\n",
       "      <td>gun</td>\n",
       "      <td>attack</td>\n",
       "      <td>car</td>\n",
       "      <td>Allegedly Armed</td>\n",
       "    </tr>\n",
       "    <tr>\n",
       "      <th>36</th>\n",
       "      <td>36</td>\n",
       "      <td>Michael Rosado</td>\n",
       "      <td>24</td>\n",
       "      <td>Male</td>\n",
       "      <td>Hispanic</td>\n",
       "      <td>2021-08-29</td>\n",
       "      <td>Bronx</td>\n",
       "      <td>NY</td>\n",
       "      <td>10457.0</td>\n",
       "      <td>New York Police Department</td>\n",
       "      <td>Gunshot</td>\n",
       "      <td>No known charges</td>\n",
       "      <td>No</td>\n",
       "      <td>gun</td>\n",
       "      <td>attack</td>\n",
       "      <td>not fleeing</td>\n",
       "      <td>Allegedly Armed</td>\n",
       "    </tr>\n",
       "  </tbody>\n",
       "</table>\n",
       "</div>"
      ],
      "text/plain": [
       "    Unnamed: 0    Victim's name  Victim's age Victim's gender Victim's race  \\\n",
       "3            3       Deon Ledet            30            Male         Black   \n",
       "19          19    Anthony Cravo            52            Male         White   \n",
       "26          26    Cedric Baxter            60            Male         Black   \n",
       "27          27  Estevan Ramriez            18            Male      Hispanic   \n",
       "36          36   Michael Rosado            24            Male      Hispanic   \n",
       "\n",
       "   Date of Incident (month/day/year)         City State  Zipcode  \\\n",
       "3                         2021-09-20      Houston    TX      NaN   \n",
       "19                        2021-09-07       Lufkin    TX  75901.0   \n",
       "26                        2021-09-03   Buena Park    CA      NaN   \n",
       "27                        2021-09-03  Fort Worth     TX      NaN   \n",
       "36                        2021-08-29        Bronx    NY  10457.0   \n",
       "\n",
       "    Agency responsible for death Cause of death Criminal Charges?  \\\n",
       "3      Houston Police Department        Gunshot  No known charges   \n",
       "19      Lufkin Police Department        Gunshot  No known charges   \n",
       "26  Buena Park Police Department        Gunshot  No known charges   \n",
       "27  Fort Worth Police Department        Gunshot  No known charges   \n",
       "36    New York Police Department        Gunshot  No known charges   \n",
       "\n",
       "   Symptoms of mental illness? Alleged Weapon  \\\n",
       "3                           No            gun   \n",
       "19                          No            gun   \n",
       "26                     Unclear   undetermined   \n",
       "27                          No            gun   \n",
       "36                          No            gun   \n",
       "\n",
       "   Alleged Threat Level (Source: WaPo)      Fleeing Armed/Unarmed Status  \n",
       "3                               attack  not fleeing      Allegedly Armed  \n",
       "19                              attack  not fleeing      Allegedly Armed  \n",
       "26                               other          car              Unclear  \n",
       "27                              attack          car      Allegedly Armed  \n",
       "36                              attack  not fleeing      Allegedly Armed  "
      ]
     },
     "execution_count": 4,
     "metadata": {},
     "output_type": "execute_result"
    }
   ],
   "source": [
    "df.head(5)"
   ]
  },
  {
   "cell_type": "code",
   "execution_count": 5,
   "id": "b5a1b49a",
   "metadata": {
    "execution": {
     "iopub.execute_input": "2021-10-07T06:22:03.930415Z",
     "iopub.status.busy": "2021-10-07T06:22:03.929690Z",
     "iopub.status.idle": "2021-10-07T06:22:05.456159Z",
     "shell.execute_reply": "2021-10-07T06:22:05.455487Z",
     "shell.execute_reply.started": "2021-10-07T06:06:58.723074Z"
    },
    "papermill": {
     "duration": 1.545817,
     "end_time": "2021-10-07T06:22:05.456343",
     "exception": false,
     "start_time": "2021-10-07T06:22:03.910526",
     "status": "completed"
    },
    "tags": []
   },
   "outputs": [
    {
     "data": {
      "text/html": [
       "        <script type=\"text/javascript\">\n",
       "        window.PlotlyConfig = {MathJaxConfig: 'local'};\n",
       "        if (window.MathJax) {MathJax.Hub.Config({SVG: {font: \"STIX-Web\"}});}\n",
       "        if (typeof require !== 'undefined') {\n",
       "        require.undef(\"plotly\");\n",
       "        requirejs.config({\n",
       "            paths: {\n",
       "                'plotly': ['https://cdn.plot.ly/plotly-2.4.2.min']\n",
       "            }\n",
       "        });\n",
       "        require(['plotly'], function(Plotly) {\n",
       "            window._Plotly = Plotly;\n",
       "        });\n",
       "        }\n",
       "        </script>\n",
       "        "
      ]
     },
     "metadata": {},
     "output_type": "display_data"
    },
    {
     "data": {
      "text/html": [
       "<div>                            <div id=\"f7632cd7-79f1-404e-b985-e68b7e1ec35a\" class=\"plotly-graph-div\" style=\"height:800px; width:800px;\"></div>            <script type=\"text/javascript\">                require([\"plotly\"], function(Plotly) {                    window.PLOTLYENV=window.PLOTLYENV || {};                                    if (document.getElementById(\"f7632cd7-79f1-404e-b985-e68b7e1ec35a\")) {                    Plotly.newPlot(                        \"f7632cd7-79f1-404e-b985-e68b7e1ec35a\",                        [{\"branchvalues\":\"total\",\"customdata\":[[\"Allegedly Armed\"],[\"Allegedly Armed\"],[\"Unarmed\"],[\"Unclear\"],[\"Vehicle\"],[\"Allegedly Armed\"],[\"Unarmed\"],[\"Unclear\"],[\"Vehicle\"],[\"Allegedly Armed\"],[\"Unarmed\"],[\"Unclear\"],[\"Unclear\"],[\"Allegedly Armed\"],[\"Allegedly Armed\"],[\"Unarmed\"],[\"Unclear\"],[\"Vehicle\"],[\"Allegedly Armed\"],[\"Allegedly armed\"],[\"Unclear\"],[\"Allegedly Armed\"],[\"Unarmed\"],[\"Allegedly Armed\"],[\"Unarmed\"],[\"Unclear\"],[\"Vehicle\"],[\"Unarmed\"],[\"Vehicle\"],[\"Allegedly Armed\"],[\"Allegedly Armed\"],[\"Vehicle\"],[\"Allegedly Armed\"],[\"Unclear\"],[\"Allegedly Armed\"],[\"Allegedly Armed\"],[\"Vehicle\"],[\"Vehicle\"],[\"Unclear\"],[\"Allegedly Armed\"],[\"Unarmed\"],[\"Allegedly armed\"],[\"Allegedly Armed\"],[\"Vehicle\"],[\"Unarmed\"],[\"Vehicle\"],[\"Vehicle\"],[\"Allegedly armed\"],[\"Unclear\"],[\"Allegedly armed\"],[\"Unarmed\"],[\"Unclear\"],[\"Unarmed\"],[\"Unclear\"],[\"Unarmed\"],[\"Unarmed\"],[\"Vehicle\"],[\"Unclear\"],[\"Allegedly armed\"],[\"Unclear\"],[\"Vehicle\"],[\"Unarmed\"]],\"domain\":{\"x\":[0.0,1.0],\"y\":[0.0,1.0]},\"hovertemplate\":\"labels=%{label}<br>count=%{value}<br>parent=%{parent}<br>id=%{id}<br>Armed/Unarmed Status=%{customdata[0]}<extra></extra>\",\"ids\":[\"Allegedly Armed/CA/Asian\",\"Allegedly Armed/TX/Hispanic\",\"Unarmed/TX/Hispanic\",\"Unclear\",\"Vehicle/TX/Hispanic\",\"Allegedly Armed/CA/White\",\"Unarmed/CA/White\",\"Unclear/CA/White\",\"Vehicle/CA/White\",\"Allegedly Armed/NY/White\",\"Unarmed/NY/White\",\"Unclear/NY/Hispanic\",\"Unclear/NY/White\",\"Allegedly Armed/CA\",\"Allegedly Armed/NY\",\"Unarmed/NY\",\"Unclear/NY\",\"Vehicle/NY\",\"Allegedly Armed/TX\",\"Allegedly armed/TX\",\"Unclear/TX\",\"Allegedly Armed\",\"Unarmed\",\"Allegedly Armed/TX/White\",\"Unarmed/NY/Hispanic\",\"Unclear/TX/Hispanic\",\"Vehicle/CA/Hispanic\",\"Unarmed/CA/Asian\",\"Vehicle/CA/Asian\",\"Allegedly Armed/NY/Asian\",\"Allegedly Armed/TX/Asian\",\"Vehicle/TX/Asian\",\"Allegedly Armed/CA/Black\",\"Unclear/CA/Black\",\"Allegedly Armed/NY/Hispanic\",\"Allegedly Armed/NY/Black\",\"Vehicle/CA/Black\",\"Vehicle\",\"Unclear/CA/Hispanic\",\"Allegedly Armed/TX/Black\",\"Unarmed/CA/Hispanic\",\"Allegedly armed/TX/Black\",\"Allegedly Armed/CA/Hispanic\",\"Vehicle/TX/Black\",\"Unarmed/TX/Black\",\"Vehicle/NY/Black\",\"Vehicle/TX/White\",\"Allegedly armed/CA\",\"Unclear/CA\",\"Allegedly armed/CA/Hispanic\",\"Unarmed/CA/Black\",\"Unclear/TX/Black\",\"Unarmed/CA\",\"Unclear/TX/White\",\"Unarmed/TX\",\"Unarmed/TX/White\",\"Vehicle/TX\",\"Unclear/CA/Asian\",\"Allegedly armed\",\"Unclear/NY/Black\",\"Vehicle/CA\",\"Unarmed/NY/Black\"],\"labels\":[\"Asian\",\"Hispanic\",\"Hispanic\",\"Unclear\",\"Hispanic\",\"White\",\"White\",\"White\",\"White\",\"White\",\"White\",\"Hispanic\",\"White\",\"CA\",\"NY\",\"NY\",\"NY\",\"NY\",\"TX\",\"TX\",\"TX\",\"Allegedly Armed\",\"Unarmed\",\"White\",\"Hispanic\",\"Hispanic\",\"Hispanic\",\"Asian\",\"Asian\",\"Asian\",\"Asian\",\"Asian\",\"Black\",\"Black\",\"Hispanic\",\"Black\",\"Black\",\"Vehicle\",\"Hispanic\",\"Black\",\"Hispanic\",\"Black\",\"Hispanic\",\"Black\",\"Black\",\"Black\",\"White\",\"CA\",\"CA\",\"Hispanic\",\"Black\",\"Black\",\"CA\",\"White\",\"TX\",\"White\",\"TX\",\"Asian\",\"Allegedly armed\",\"Black\",\"CA\",\"Black\"],\"marker\":{\"colors\":[\"rgb(102, 197, 204)\",\"rgb(102, 197, 204)\",\"rgb(246, 207, 113)\",\"rgb(248, 156, 116)\",\"rgb(220, 176, 242)\",\"rgb(102, 197, 204)\",\"rgb(246, 207, 113)\",\"rgb(248, 156, 116)\",\"rgb(220, 176, 242)\",\"rgb(102, 197, 204)\",\"rgb(246, 207, 113)\",\"rgb(248, 156, 116)\",\"rgb(248, 156, 116)\",\"rgb(102, 197, 204)\",\"rgb(102, 197, 204)\",\"rgb(246, 207, 113)\",\"rgb(248, 156, 116)\",\"rgb(220, 176, 242)\",\"rgb(102, 197, 204)\",\"rgb(135, 197, 95)\",\"rgb(248, 156, 116)\",\"rgb(102, 197, 204)\",\"rgb(246, 207, 113)\",\"rgb(102, 197, 204)\",\"rgb(246, 207, 113)\",\"rgb(248, 156, 116)\",\"rgb(220, 176, 242)\",\"rgb(246, 207, 113)\",\"rgb(220, 176, 242)\",\"rgb(102, 197, 204)\",\"rgb(102, 197, 204)\",\"rgb(220, 176, 242)\",\"rgb(102, 197, 204)\",\"rgb(248, 156, 116)\",\"rgb(102, 197, 204)\",\"rgb(102, 197, 204)\",\"rgb(220, 176, 242)\",\"rgb(220, 176, 242)\",\"rgb(248, 156, 116)\",\"rgb(102, 197, 204)\",\"rgb(246, 207, 113)\",\"rgb(135, 197, 95)\",\"rgb(102, 197, 204)\",\"rgb(220, 176, 242)\",\"rgb(246, 207, 113)\",\"rgb(220, 176, 242)\",\"rgb(220, 176, 242)\",\"rgb(135, 197, 95)\",\"rgb(248, 156, 116)\",\"rgb(135, 197, 95)\",\"rgb(246, 207, 113)\",\"rgb(248, 156, 116)\",\"rgb(246, 207, 113)\",\"rgb(248, 156, 116)\",\"rgb(246, 207, 113)\",\"rgb(246, 207, 113)\",\"rgb(220, 176, 242)\",\"rgb(248, 156, 116)\",\"rgb(135, 197, 95)\",\"rgb(248, 156, 116)\",\"rgb(220, 176, 242)\",\"rgb(246, 207, 113)\"]},\"maxdepth\":-1,\"name\":\"\",\"parents\":[\"Allegedly Armed/CA\",\"Allegedly Armed/TX\",\"Unarmed/TX\",\"\",\"Vehicle/TX\",\"Allegedly Armed/CA\",\"Unarmed/CA\",\"Unclear/CA\",\"Vehicle/CA\",\"Allegedly Armed/NY\",\"Unarmed/NY\",\"Unclear/NY\",\"Unclear/NY\",\"Allegedly Armed\",\"Allegedly Armed\",\"Unarmed\",\"Unclear\",\"Vehicle\",\"Allegedly Armed\",\"Allegedly armed\",\"Unclear\",\"\",\"\",\"Allegedly Armed/TX\",\"Unarmed/NY\",\"Unclear/TX\",\"Vehicle/CA\",\"Unarmed/CA\",\"Vehicle/CA\",\"Allegedly Armed/NY\",\"Allegedly Armed/TX\",\"Vehicle/TX\",\"Allegedly Armed/CA\",\"Unclear/CA\",\"Allegedly Armed/NY\",\"Allegedly Armed/NY\",\"Vehicle/CA\",\"\",\"Unclear/CA\",\"Allegedly Armed/TX\",\"Unarmed/CA\",\"Allegedly armed/TX\",\"Allegedly Armed/CA\",\"Vehicle/TX\",\"Unarmed/TX\",\"Vehicle/NY\",\"Vehicle/TX\",\"Allegedly armed\",\"Unclear\",\"Allegedly armed/CA\",\"Unarmed/CA\",\"Unclear/TX\",\"Unarmed\",\"Unclear/TX\",\"Unarmed\",\"Unarmed/TX\",\"Vehicle\",\"Unclear/CA\",\"\",\"Unclear/NY\",\"Vehicle\",\"Unarmed/NY\"],\"textinfo\":\"label+percent parent\",\"type\":\"sunburst\",\"values\":[41,221,34,209,12,264,69,39,23,51,13,2,2,834,126,36,11,3,586,1,56,1546,369,229,6,20,41,5,2,2,14,1,137,28,14,59,12,126,71,122,101,1,392,18,43,3,14,2,142,2,44,12,219,24,114,37,45,4,3,7,78,17]}],                        {\"autosize\":false,\"height\":800,\"legend\":{\"tracegroupgap\":0},\"sunburstcolorway\":[\"rgb(102, 197, 204)\",\"rgb(246, 207, 113)\",\"rgb(248, 156, 116)\",\"rgb(220, 176, 242)\",\"rgb(135, 197, 95)\",\"rgb(158, 185, 243)\",\"rgb(254, 136, 177)\",\"rgb(201, 219, 116)\",\"rgb(139, 224, 164)\",\"rgb(180, 151, 231)\",\"rgb(179, 179, 179)\"],\"template\":{\"data\":{\"bar\":[{\"error_x\":{\"color\":\"rgb(51,51,51)\"},\"error_y\":{\"color\":\"rgb(51,51,51)\"},\"marker\":{\"line\":{\"color\":\"rgb(237,237,237)\",\"width\":0.5},\"pattern\":{\"fillmode\":\"overlay\",\"size\":10,\"solidity\":0.2}},\"type\":\"bar\"}],\"barpolar\":[{\"marker\":{\"line\":{\"color\":\"rgb(237,237,237)\",\"width\":0.5},\"pattern\":{\"fillmode\":\"overlay\",\"size\":10,\"solidity\":0.2}},\"type\":\"barpolar\"}],\"carpet\":[{\"aaxis\":{\"endlinecolor\":\"rgb(51,51,51)\",\"gridcolor\":\"white\",\"linecolor\":\"white\",\"minorgridcolor\":\"white\",\"startlinecolor\":\"rgb(51,51,51)\"},\"baxis\":{\"endlinecolor\":\"rgb(51,51,51)\",\"gridcolor\":\"white\",\"linecolor\":\"white\",\"minorgridcolor\":\"white\",\"startlinecolor\":\"rgb(51,51,51)\"},\"type\":\"carpet\"}],\"choropleth\":[{\"colorbar\":{\"outlinewidth\":0,\"tickcolor\":\"rgb(237,237,237)\",\"ticklen\":6,\"ticks\":\"inside\"},\"type\":\"choropleth\"}],\"contour\":[{\"colorbar\":{\"outlinewidth\":0,\"tickcolor\":\"rgb(237,237,237)\",\"ticklen\":6,\"ticks\":\"inside\"},\"colorscale\":[[0,\"rgb(20,44,66)\"],[1,\"rgb(90,179,244)\"]],\"type\":\"contour\"}],\"contourcarpet\":[{\"colorbar\":{\"outlinewidth\":0,\"tickcolor\":\"rgb(237,237,237)\",\"ticklen\":6,\"ticks\":\"inside\"},\"type\":\"contourcarpet\"}],\"heatmap\":[{\"colorbar\":{\"outlinewidth\":0,\"tickcolor\":\"rgb(237,237,237)\",\"ticklen\":6,\"ticks\":\"inside\"},\"colorscale\":[[0,\"rgb(20,44,66)\"],[1,\"rgb(90,179,244)\"]],\"type\":\"heatmap\"}],\"heatmapgl\":[{\"colorbar\":{\"outlinewidth\":0,\"tickcolor\":\"rgb(237,237,237)\",\"ticklen\":6,\"ticks\":\"inside\"},\"colorscale\":[[0,\"rgb(20,44,66)\"],[1,\"rgb(90,179,244)\"]],\"type\":\"heatmapgl\"}],\"histogram\":[{\"marker\":{\"pattern\":{\"fillmode\":\"overlay\",\"size\":10,\"solidity\":0.2}},\"type\":\"histogram\"}],\"histogram2d\":[{\"colorbar\":{\"outlinewidth\":0,\"tickcolor\":\"rgb(237,237,237)\",\"ticklen\":6,\"ticks\":\"inside\"},\"colorscale\":[[0,\"rgb(20,44,66)\"],[1,\"rgb(90,179,244)\"]],\"type\":\"histogram2d\"}],\"histogram2dcontour\":[{\"colorbar\":{\"outlinewidth\":0,\"tickcolor\":\"rgb(237,237,237)\",\"ticklen\":6,\"ticks\":\"inside\"},\"colorscale\":[[0,\"rgb(20,44,66)\"],[1,\"rgb(90,179,244)\"]],\"type\":\"histogram2dcontour\"}],\"mesh3d\":[{\"colorbar\":{\"outlinewidth\":0,\"tickcolor\":\"rgb(237,237,237)\",\"ticklen\":6,\"ticks\":\"inside\"},\"type\":\"mesh3d\"}],\"parcoords\":[{\"line\":{\"colorbar\":{\"outlinewidth\":0,\"tickcolor\":\"rgb(237,237,237)\",\"ticklen\":6,\"ticks\":\"inside\"}},\"type\":\"parcoords\"}],\"pie\":[{\"automargin\":true,\"type\":\"pie\"}],\"scatter\":[{\"marker\":{\"colorbar\":{\"outlinewidth\":0,\"tickcolor\":\"rgb(237,237,237)\",\"ticklen\":6,\"ticks\":\"inside\"}},\"type\":\"scatter\"}],\"scatter3d\":[{\"line\":{\"colorbar\":{\"outlinewidth\":0,\"tickcolor\":\"rgb(237,237,237)\",\"ticklen\":6,\"ticks\":\"inside\"}},\"marker\":{\"colorbar\":{\"outlinewidth\":0,\"tickcolor\":\"rgb(237,237,237)\",\"ticklen\":6,\"ticks\":\"inside\"}},\"type\":\"scatter3d\"}],\"scattercarpet\":[{\"marker\":{\"colorbar\":{\"outlinewidth\":0,\"tickcolor\":\"rgb(237,237,237)\",\"ticklen\":6,\"ticks\":\"inside\"}},\"type\":\"scattercarpet\"}],\"scattergeo\":[{\"marker\":{\"colorbar\":{\"outlinewidth\":0,\"tickcolor\":\"rgb(237,237,237)\",\"ticklen\":6,\"ticks\":\"inside\"}},\"type\":\"scattergeo\"}],\"scattergl\":[{\"marker\":{\"colorbar\":{\"outlinewidth\":0,\"tickcolor\":\"rgb(237,237,237)\",\"ticklen\":6,\"ticks\":\"inside\"}},\"type\":\"scattergl\"}],\"scattermapbox\":[{\"marker\":{\"colorbar\":{\"outlinewidth\":0,\"tickcolor\":\"rgb(237,237,237)\",\"ticklen\":6,\"ticks\":\"inside\"}},\"type\":\"scattermapbox\"}],\"scatterpolar\":[{\"marker\":{\"colorbar\":{\"outlinewidth\":0,\"tickcolor\":\"rgb(237,237,237)\",\"ticklen\":6,\"ticks\":\"inside\"}},\"type\":\"scatterpolar\"}],\"scatterpolargl\":[{\"marker\":{\"colorbar\":{\"outlinewidth\":0,\"tickcolor\":\"rgb(237,237,237)\",\"ticklen\":6,\"ticks\":\"inside\"}},\"type\":\"scatterpolargl\"}],\"scatterternary\":[{\"marker\":{\"colorbar\":{\"outlinewidth\":0,\"tickcolor\":\"rgb(237,237,237)\",\"ticklen\":6,\"ticks\":\"inside\"}},\"type\":\"scatterternary\"}],\"surface\":[{\"colorbar\":{\"outlinewidth\":0,\"tickcolor\":\"rgb(237,237,237)\",\"ticklen\":6,\"ticks\":\"inside\"},\"colorscale\":[[0,\"rgb(20,44,66)\"],[1,\"rgb(90,179,244)\"]],\"type\":\"surface\"}],\"table\":[{\"cells\":{\"fill\":{\"color\":\"rgb(237,237,237)\"},\"line\":{\"color\":\"white\"}},\"header\":{\"fill\":{\"color\":\"rgb(217,217,217)\"},\"line\":{\"color\":\"white\"}},\"type\":\"table\"}]},\"layout\":{\"annotationdefaults\":{\"arrowhead\":0,\"arrowwidth\":1},\"autotypenumbers\":\"strict\",\"coloraxis\":{\"colorbar\":{\"outlinewidth\":0,\"tickcolor\":\"rgb(237,237,237)\",\"ticklen\":6,\"ticks\":\"inside\"}},\"colorscale\":{\"sequential\":[[0,\"rgb(20,44,66)\"],[1,\"rgb(90,179,244)\"]],\"sequentialminus\":[[0,\"rgb(20,44,66)\"],[1,\"rgb(90,179,244)\"]]},\"colorway\":[\"#F8766D\",\"#A3A500\",\"#00BF7D\",\"#00B0F6\",\"#E76BF3\"],\"font\":{\"color\":\"rgb(51,51,51)\"},\"geo\":{\"bgcolor\":\"white\",\"lakecolor\":\"white\",\"landcolor\":\"rgb(237,237,237)\",\"showlakes\":true,\"showland\":true,\"subunitcolor\":\"white\"},\"hoverlabel\":{\"align\":\"left\"},\"hovermode\":\"closest\",\"paper_bgcolor\":\"white\",\"plot_bgcolor\":\"rgb(237,237,237)\",\"polar\":{\"angularaxis\":{\"gridcolor\":\"white\",\"linecolor\":\"white\",\"showgrid\":true,\"tickcolor\":\"rgb(51,51,51)\",\"ticks\":\"outside\"},\"bgcolor\":\"rgb(237,237,237)\",\"radialaxis\":{\"gridcolor\":\"white\",\"linecolor\":\"white\",\"showgrid\":true,\"tickcolor\":\"rgb(51,51,51)\",\"ticks\":\"outside\"}},\"scene\":{\"xaxis\":{\"backgroundcolor\":\"rgb(237,237,237)\",\"gridcolor\":\"white\",\"gridwidth\":2,\"linecolor\":\"white\",\"showbackground\":true,\"showgrid\":true,\"tickcolor\":\"rgb(51,51,51)\",\"ticks\":\"outside\",\"zerolinecolor\":\"white\"},\"yaxis\":{\"backgroundcolor\":\"rgb(237,237,237)\",\"gridcolor\":\"white\",\"gridwidth\":2,\"linecolor\":\"white\",\"showbackground\":true,\"showgrid\":true,\"tickcolor\":\"rgb(51,51,51)\",\"ticks\":\"outside\",\"zerolinecolor\":\"white\"},\"zaxis\":{\"backgroundcolor\":\"rgb(237,237,237)\",\"gridcolor\":\"white\",\"gridwidth\":2,\"linecolor\":\"white\",\"showbackground\":true,\"showgrid\":true,\"tickcolor\":\"rgb(51,51,51)\",\"ticks\":\"outside\",\"zerolinecolor\":\"white\"}},\"shapedefaults\":{\"fillcolor\":\"black\",\"line\":{\"width\":0},\"opacity\":0.3},\"ternary\":{\"aaxis\":{\"gridcolor\":\"white\",\"linecolor\":\"white\",\"showgrid\":true,\"tickcolor\":\"rgb(51,51,51)\",\"ticks\":\"outside\"},\"baxis\":{\"gridcolor\":\"white\",\"linecolor\":\"white\",\"showgrid\":true,\"tickcolor\":\"rgb(51,51,51)\",\"ticks\":\"outside\"},\"bgcolor\":\"rgb(237,237,237)\",\"caxis\":{\"gridcolor\":\"white\",\"linecolor\":\"white\",\"showgrid\":true,\"tickcolor\":\"rgb(51,51,51)\",\"ticks\":\"outside\"}},\"xaxis\":{\"automargin\":true,\"gridcolor\":\"white\",\"linecolor\":\"white\",\"showgrid\":true,\"tickcolor\":\"rgb(51,51,51)\",\"ticks\":\"outside\",\"title\":{\"standoff\":15},\"zerolinecolor\":\"white\"},\"yaxis\":{\"automargin\":true,\"gridcolor\":\"white\",\"linecolor\":\"white\",\"showgrid\":true,\"tickcolor\":\"rgb(51,51,51)\",\"ticks\":\"outside\",\"title\":{\"standoff\":15},\"zerolinecolor\":\"white\"}}},\"title\":{\"text\":\"7-year Breakdown of Deaths by Police\"},\"width\":800},                        {\"responsive\": true}                    ).then(function(){\n",
       "                            \n",
       "var gd = document.getElementById('f7632cd7-79f1-404e-b985-e68b7e1ec35a');\n",
       "var x = new MutationObserver(function (mutations, observer) {{\n",
       "        var display = window.getComputedStyle(gd).display;\n",
       "        if (!display || display === 'none') {{\n",
       "            console.log([gd, 'removed!']);\n",
       "            Plotly.purge(gd);\n",
       "            observer.disconnect();\n",
       "        }}\n",
       "}});\n",
       "\n",
       "// Listen for the removal of the full notebook cells\n",
       "var notebookContainer = gd.closest('#notebook-container');\n",
       "if (notebookContainer) {{\n",
       "    x.observe(notebookContainer, {childList: true});\n",
       "}}\n",
       "\n",
       "// Listen for the clearing of the current output cell\n",
       "var outputEl = gd.closest('.output');\n",
       "if (outputEl) {{\n",
       "    x.observe(outputEl, {childList: true});\n",
       "}}\n",
       "\n",
       "                        })                };                });            </script>        </div>"
      ]
     },
     "metadata": {},
     "output_type": "display_data"
    }
   ],
   "source": [
    "fig = px.sunburst(\n",
    "    data_frame=df,\n",
    "    path=[\"Armed/Unarmed Status\", 'State', \"Victim's race\"],  # Root, branches, leaves\n",
    "    color=\"Armed/Unarmed Status\",\n",
    "    color_discrete_sequence=px.colors.qualitative.Pastel,\n",
    "    maxdepth=-1,                       \n",
    "     title=\"7-year Breakdown of Deaths by Police\",\n",
    "    template='ggplot2', \n",
    ")\n",
    "fig.update_traces(textinfo='label+percent parent')\n",
    "fig.update_layout(\n",
    "    autosize=False,\n",
    "    width=800,\n",
    "    height=800,)\n",
    "\n",
    "fig.show()"
   ]
  },
  {
   "cell_type": "code",
   "execution_count": 6,
   "id": "6fd2cfb1",
   "metadata": {
    "execution": {
     "iopub.execute_input": "2021-10-07T06:22:05.499117Z",
     "iopub.status.busy": "2021-10-07T06:22:05.498407Z",
     "iopub.status.idle": "2021-10-07T06:22:05.703463Z",
     "shell.execute_reply": "2021-10-07T06:22:05.702824Z",
     "shell.execute_reply.started": "2021-10-07T06:09:40.163459Z"
    },
    "papermill": {
     "duration": 0.233275,
     "end_time": "2021-10-07T06:22:05.703610",
     "exception": false,
     "start_time": "2021-10-07T06:22:05.470335",
     "status": "completed"
    },
    "tags": []
   },
   "outputs": [
    {
     "data": {
      "text/html": [
       "<div>                            <div id=\"421cbb7e-a53b-4f8f-b789-24ec293c3be9\" class=\"plotly-graph-div\" style=\"height:800px; width:800px;\"></div>            <script type=\"text/javascript\">                require([\"plotly\"], function(Plotly) {                    window.PLOTLYENV=window.PLOTLYENV || {};                                    if (document.getElementById(\"421cbb7e-a53b-4f8f-b789-24ec293c3be9\")) {                    Plotly.newPlot(                        \"421cbb7e-a53b-4f8f-b789-24ec293c3be9\",                        [{\"branchvalues\":\"total\",\"customdata\":[[\"Allegedly Armed\"],[\"Vehicle\"],[\"Unarmed\"],[\"Allegedly armed\"],[\"Allegedly Armed\"],[\"Vehicle\"],[\"Unclear\"],[\"Unarmed\"],[\"Allegedly Armed\"],[\"Allegedly Armed\"],[\"Vehicle\"],[\"Allegedly Armed\"],[\"Allegedly Armed\"],[\"Unclear\"],[\"Unarmed\"],[\"Allegedly Armed\"],[\"Vehicle\"],[\"Unclear\"],[\"Allegedly Armed\"],[\"Unclear\"],[\"Allegedly Armed\"],[\"Vehicle\"],[\"Unclear\"],[\"Allegedly Armed\"],[\"Allegedly Armed\"],[\"Unclear\"],[\"Allegedly armed\"],[\"Unarmed\"],[\"Allegedly armed\"],[\"Allegedly Armed\"],[\"Vehicle\"],[\"Unclear\"],[\"Unarmed\"],[\"Allegedly armed\"],[\"Allegedly Armed\"],[\"Unarmed\"],[\"Vehicle\"],[\"Unarmed\"],[\"Allegedly armed\"],[\"Allegedly Armed\"],[\"Allegedly Armed\"],[\"Unclear\"],[\"Unarmed\"],[\"Allegedly Armed\"],[\"Vehicle\"],[\"Unclear\"],[\"Unarmed\"],[\"Allegedly Armed\"],[\"Vehicle\"],[\"Unclear\"],[\"Unclear\"],[\"Allegedly Armed\"],[\"Allegedly Armed\"],[\"Unclear\"],[\"Vehicle\"],[\"Allegedly Armed\"],[\"Unarmed\"],[\"Unclear\"],[\"Vehicle\"],[\"Unclear\"],[\"Unarmed\"],[\"Allegedly Armed\"],[\"Vehicle\"],[\"Allegedly Armed\"],[\"Allegedly Armed\"],[\"Vehicle\"],[\"Unclear\"],[\"Unarmed\"],[\"Unclear\"],[\"Allegedly Armed\"],[\"Unarmed\"],[\"Allegedly Armed\"],[\"Vehicle\"],[\"Unclear\"],[\"Allegedly Armed\"],[\"Unclear\"],[\"Unarmed\"],[\"Unarmed\"],[\"Unarmed\"],[\"Allegedly Armed\"],[\"Allegedly Armed\"],[\"Vehicle\"],[\"Unclear\"],[\"Vehicle\"],[\"Allegedly Armed\"],[\"Vehicle\"],[\"Allegedly Armed\"],[\"Unarmed\"],[\"Unclear\"],[\"Unarmed\"],[\"Unarmed\"],[\"Vehicle\"],[\"Unarmed\"],[\"Vehicle\"],[\"Allegedly armed\"],[\"Unarmed\"],[\"Vehicle\"],[\"Vehicle\"],[\"Allegedly Armed\"],[\"Unarmed\"],[\"Allegedly Armed\"],[\"Unarmed\"],[\"Vehicle\"],[\"Unclear\"],[\"Unarmed\"],[\"Allegedly Armed\"],[\"Allegedly Armed\"],[\"Allegedly Armed\"],[\"Vehicle\"],[\"Unarmed\"],[\"Unarmed\"],[\"Unarmed\"],[\"Allegedly Armed\"],[\"Unarmed\"],[\"Vehicle\"],[\"Unclear\"],[\"Allegedly Armed\"],[\"Unclear\"],[\"Allegedly armed\"],[\"Allegedly Armed\"],[\"Vehicle\"],[\"Unarmed\"],[\"Vehicle\"],[\"Unarmed\"],[\"Unclear\"],[\"Vehicle\"],[\"Unclear\"],[\"Unarmed\"],[\"Unarmed\"],[\"Allegedly Armed\"],[\"Unclear\"],[\"Unarmed\"],[\"Unarmed\"]],\"domain\":{\"x\":[0.0,1.0],\"y\":[0.0,1.0]},\"hovertemplate\":\"labels=%{label}<br>count=%{value}<br>parent=%{parent}<br>id=%{id}<br>Armed/Unarmed Status=%{customdata[0]}<extra></extra>\",\"ids\":[\"Allegedly Armed/CA/Asian/Female\",\"Vehicle/TX/Black\",\"Unarmed/TX/Black\",\"Allegedly armed/TX/Black\",\"Allegedly Armed/TX/Black\",\"Vehicle/NY/Black\",\"Unclear/NY/Black\",\"Unarmed/NY/Black\",\"Allegedly Armed/NY/Black\",\"Allegedly Armed/CA/Black\",\"Vehicle/TX/Asian\",\"Allegedly Armed/TX/Asian\",\"Allegedly Armed/NY/Asian\",\"Unclear/CA/Asian\",\"Unarmed/CA/Asian\",\"Allegedly Armed/NY/Black/Transgender\",\"Vehicle/TX/White/Male\",\"Unclear\",\"Allegedly Armed/TX/White/Male\",\"Unclear/NY/White/Male\",\"Allegedly Armed/NY/White/Male\",\"Vehicle/CA/White/Male\",\"Unclear/CA/White/Male\",\"Allegedly Armed/CA/White/Male\",\"Allegedly Armed/CA/Hispanic\",\"Unclear/TX/Hispanic/Male\",\"Allegedly armed/CA/Hispanic\",\"Unarmed/NY/Hispanic\",\"Allegedly armed\",\"Allegedly Armed\",\"Vehicle/TX\",\"Unclear/TX\",\"Unarmed/TX\",\"Allegedly armed/TX\",\"Allegedly Armed/TX\",\"Unarmed/NY\",\"Vehicle/CA\",\"Unarmed/CA\",\"Allegedly armed/CA\",\"Allegedly Armed/CA\",\"Allegedly Armed/TX/White\",\"Unclear/NY/White\",\"Unarmed/NY/White\",\"Allegedly Armed/NY/White\",\"Vehicle/CA/White\",\"Unclear/CA/White\",\"Unarmed/CA/White\",\"Allegedly Armed/CA/White\",\"Vehicle/TX/Hispanic\",\"Unclear/TX/Hispanic\",\"Unclear/NY/Hispanic\",\"Allegedly Armed/NY/Hispanic\",\"Allegedly Armed/TX/Hispanic/Male\",\"Unclear/TX/White/Male\",\"Vehicle\",\"Allegedly Armed/CA/White/Female\",\"Unarmed/CA/White/Female\",\"Unclear/CA/White/Female\",\"Vehicle/CA/Black/Male\",\"Unclear/CA/Black/Male\",\"Unarmed/CA/Black/Male\",\"Allegedly Armed/CA/Black/Male\",\"Vehicle/TX/Asian/Male\",\"Allegedly Armed/TX/Asian/Male\",\"Allegedly Armed/NY/Asian/Male\",\"Vehicle/CA/Asian/Male\",\"Unclear/CA/Asian/Male\",\"Unarmed/CA/Asian/Male\",\"Unclear/NY/Hispanic/Male\",\"Allegedly Armed/NY/White/Female\",\"Unarmed/NY/White/Female\",\"Allegedly Armed/CA/Asian/Male\",\"Vehicle/TX/White/Female\",\"Unclear/TX/White/Female\",\"Allegedly Armed/NY/Black/Male\",\"Unclear/NY/Black/Male\",\"Unarmed/NY/Black/Male\",\"Unarmed/NY/Black/Female\",\"Unarmed/NY/Hispanic/Male\",\"Allegedly Armed/NY/Hispanic/Male\",\"Allegedly Armed/CA/Black/Female\",\"Vehicle/CA/Hispanic/Male\",\"Unclear/CA/Hispanic/Male\",\"Vehicle/CA/Black/Female\",\"Allegedly Armed/NY/Black/Female\",\"Vehicle/NY/Black/Male\",\"Allegedly Armed/TX/Black/Female\",\"Unarmed/TX/White/Female\",\"Unclear/TX/Black/Male\",\"Unarmed/TX/Black/Female\",\"Unarmed/CA/Hispanic/Female\",\"Vehicle/CA/Hispanic/Female\",\"Unarmed/NY/Hispanic/Female\",\"Vehicle/TX/Hispanic/Female\",\"Allegedly armed/CA/Hispanic/Male\",\"Unarmed/TX/Black/Male\",\"Vehicle/TX/Black/Male\",\"Vehicle/CA/White/Female\",\"Allegedly Armed/CA/Hispanic/Female\",\"Unarmed\",\"Allegedly Armed/TX/White/Female\",\"Unarmed/CA/Hispanic\",\"Vehicle/CA/Hispanic\",\"Unclear/CA/Hispanic\",\"Unarmed/TX/White/Male\",\"Allegedly Armed/TX/Black/Unknown\",\"Allegedly Armed/CA/Asian\",\"Allegedly Armed/TX/Hispanic\",\"Vehicle/TX/Hispanic/Male\",\"Unarmed/CA/White/Male\",\"Unarmed/CA/Black/Female\",\"Unarmed/NY/White/Male\",\"Allegedly Armed/CA/Hispanic/Male\",\"Unarmed/TX/Hispanic/Transgender\",\"Vehicle/NY\",\"Unclear/NY\",\"Allegedly Armed/NY\",\"Unclear/CA\",\"Allegedly armed/TX/Black/Male\",\"Allegedly Armed/TX/Black/Male\",\"Vehicle/TX/White\",\"Unarmed/TX/Hispanic/Female\",\"Vehicle/CA/Asian\",\"Unarmed/CA/Black\",\"Unclear/CA/Black\",\"Vehicle/CA/Black\",\"Unclear/TX/Black\",\"Unarmed/TX/Hispanic\",\"Unarmed/TX/Hispanic/Male\",\"Allegedly Armed/TX/Hispanic/Female\",\"Unclear/TX/White\",\"Unarmed/TX/White\",\"Unarmed/CA/Hispanic/Male\"],\"labels\":[\"Female\",\"Black\",\"Black\",\"Black\",\"Black\",\"Black\",\"Black\",\"Black\",\"Black\",\"Black\",\"Asian\",\"Asian\",\"Asian\",\"Asian\",\"Asian\",\"Transgender\",\"Male\",\"Unclear\",\"Male\",\"Male\",\"Male\",\"Male\",\"Male\",\"Male\",\"Hispanic\",\"Male\",\"Hispanic\",\"Hispanic\",\"Allegedly armed\",\"Allegedly Armed\",\"TX\",\"TX\",\"TX\",\"TX\",\"TX\",\"NY\",\"CA\",\"CA\",\"CA\",\"CA\",\"White\",\"White\",\"White\",\"White\",\"White\",\"White\",\"White\",\"White\",\"Hispanic\",\"Hispanic\",\"Hispanic\",\"Hispanic\",\"Male\",\"Male\",\"Vehicle\",\"Female\",\"Female\",\"Female\",\"Male\",\"Male\",\"Male\",\"Male\",\"Male\",\"Male\",\"Male\",\"Male\",\"Male\",\"Male\",\"Male\",\"Female\",\"Female\",\"Male\",\"Female\",\"Female\",\"Male\",\"Male\",\"Male\",\"Female\",\"Male\",\"Male\",\"Female\",\"Male\",\"Male\",\"Female\",\"Female\",\"Male\",\"Female\",\"Female\",\"Male\",\"Female\",\"Female\",\"Female\",\"Female\",\"Female\",\"Male\",\"Male\",\"Male\",\"Female\",\"Female\",\"Unarmed\",\"Female\",\"Hispanic\",\"Hispanic\",\"Hispanic\",\"Male\",\"Unknown\",\"Asian\",\"Hispanic\",\"Male\",\"Male\",\"Female\",\"Male\",\"Male\",\"Transgender\",\"NY\",\"NY\",\"NY\",\"CA\",\"Male\",\"Male\",\"White\",\"Female\",\"Asian\",\"Black\",\"Black\",\"Black\",\"Black\",\"Hispanic\",\"Male\",\"Female\",\"White\",\"White\",\"Male\"],\"marker\":{\"colors\":[\"rgb(102, 197, 204)\",\"rgb(246, 207, 113)\",\"rgb(248, 156, 116)\",\"rgb(220, 176, 242)\",\"rgb(102, 197, 204)\",\"rgb(246, 207, 113)\",\"rgb(135, 197, 95)\",\"rgb(248, 156, 116)\",\"rgb(102, 197, 204)\",\"rgb(102, 197, 204)\",\"rgb(246, 207, 113)\",\"rgb(102, 197, 204)\",\"rgb(102, 197, 204)\",\"rgb(135, 197, 95)\",\"rgb(248, 156, 116)\",\"rgb(102, 197, 204)\",\"rgb(246, 207, 113)\",\"rgb(135, 197, 95)\",\"rgb(102, 197, 204)\",\"rgb(135, 197, 95)\",\"rgb(102, 197, 204)\",\"rgb(246, 207, 113)\",\"rgb(135, 197, 95)\",\"rgb(102, 197, 204)\",\"rgb(102, 197, 204)\",\"rgb(135, 197, 95)\",\"rgb(220, 176, 242)\",\"rgb(248, 156, 116)\",\"rgb(220, 176, 242)\",\"rgb(102, 197, 204)\",\"rgb(246, 207, 113)\",\"rgb(135, 197, 95)\",\"rgb(248, 156, 116)\",\"rgb(220, 176, 242)\",\"rgb(102, 197, 204)\",\"rgb(248, 156, 116)\",\"rgb(246, 207, 113)\",\"rgb(248, 156, 116)\",\"rgb(220, 176, 242)\",\"rgb(102, 197, 204)\",\"rgb(102, 197, 204)\",\"rgb(135, 197, 95)\",\"rgb(248, 156, 116)\",\"rgb(102, 197, 204)\",\"rgb(246, 207, 113)\",\"rgb(135, 197, 95)\",\"rgb(248, 156, 116)\",\"rgb(102, 197, 204)\",\"rgb(246, 207, 113)\",\"rgb(135, 197, 95)\",\"rgb(135, 197, 95)\",\"rgb(102, 197, 204)\",\"rgb(102, 197, 204)\",\"rgb(135, 197, 95)\",\"rgb(246, 207, 113)\",\"rgb(102, 197, 204)\",\"rgb(248, 156, 116)\",\"rgb(135, 197, 95)\",\"rgb(246, 207, 113)\",\"rgb(135, 197, 95)\",\"rgb(248, 156, 116)\",\"rgb(102, 197, 204)\",\"rgb(246, 207, 113)\",\"rgb(102, 197, 204)\",\"rgb(102, 197, 204)\",\"rgb(246, 207, 113)\",\"rgb(135, 197, 95)\",\"rgb(248, 156, 116)\",\"rgb(135, 197, 95)\",\"rgb(102, 197, 204)\",\"rgb(248, 156, 116)\",\"rgb(102, 197, 204)\",\"rgb(246, 207, 113)\",\"rgb(135, 197, 95)\",\"rgb(102, 197, 204)\",\"rgb(135, 197, 95)\",\"rgb(248, 156, 116)\",\"rgb(248, 156, 116)\",\"rgb(248, 156, 116)\",\"rgb(102, 197, 204)\",\"rgb(102, 197, 204)\",\"rgb(246, 207, 113)\",\"rgb(135, 197, 95)\",\"rgb(246, 207, 113)\",\"rgb(102, 197, 204)\",\"rgb(246, 207, 113)\",\"rgb(102, 197, 204)\",\"rgb(248, 156, 116)\",\"rgb(135, 197, 95)\",\"rgb(248, 156, 116)\",\"rgb(248, 156, 116)\",\"rgb(246, 207, 113)\",\"rgb(248, 156, 116)\",\"rgb(246, 207, 113)\",\"rgb(220, 176, 242)\",\"rgb(248, 156, 116)\",\"rgb(246, 207, 113)\",\"rgb(246, 207, 113)\",\"rgb(102, 197, 204)\",\"rgb(248, 156, 116)\",\"rgb(102, 197, 204)\",\"rgb(248, 156, 116)\",\"rgb(246, 207, 113)\",\"rgb(135, 197, 95)\",\"rgb(248, 156, 116)\",\"rgb(102, 197, 204)\",\"rgb(102, 197, 204)\",\"rgb(102, 197, 204)\",\"rgb(246, 207, 113)\",\"rgb(248, 156, 116)\",\"rgb(248, 156, 116)\",\"rgb(248, 156, 116)\",\"rgb(102, 197, 204)\",\"rgb(248, 156, 116)\",\"rgb(246, 207, 113)\",\"rgb(135, 197, 95)\",\"rgb(102, 197, 204)\",\"rgb(135, 197, 95)\",\"rgb(220, 176, 242)\",\"rgb(102, 197, 204)\",\"rgb(246, 207, 113)\",\"rgb(248, 156, 116)\",\"rgb(246, 207, 113)\",\"rgb(248, 156, 116)\",\"rgb(135, 197, 95)\",\"rgb(246, 207, 113)\",\"rgb(135, 197, 95)\",\"rgb(248, 156, 116)\",\"rgb(248, 156, 116)\",\"rgb(102, 197, 204)\",\"rgb(135, 197, 95)\",\"rgb(248, 156, 116)\",\"rgb(248, 156, 116)\"]},\"maxdepth\":-1,\"name\":\"\",\"parents\":[\"Allegedly Armed/CA/Asian\",\"Vehicle/TX\",\"Unarmed/TX\",\"Allegedly armed/TX\",\"Allegedly Armed/TX\",\"Vehicle/NY\",\"Unclear/NY\",\"Unarmed/NY\",\"Allegedly Armed/NY\",\"Allegedly Armed/CA\",\"Vehicle/TX\",\"Allegedly Armed/TX\",\"Allegedly Armed/NY\",\"Unclear/CA\",\"Unarmed/CA\",\"Allegedly Armed/NY/Black\",\"Vehicle/TX/White\",\"\",\"Allegedly Armed/TX/White\",\"Unclear/NY/White\",\"Allegedly Armed/NY/White\",\"Vehicle/CA/White\",\"Unclear/CA/White\",\"Allegedly Armed/CA/White\",\"Allegedly Armed/CA\",\"Unclear/TX/Hispanic\",\"Allegedly armed/CA\",\"Unarmed/NY\",\"\",\"\",\"Vehicle\",\"Unclear\",\"Unarmed\",\"Allegedly armed\",\"Allegedly Armed\",\"Unarmed\",\"Vehicle\",\"Unarmed\",\"Allegedly armed\",\"Allegedly Armed\",\"Allegedly Armed/TX\",\"Unclear/NY\",\"Unarmed/NY\",\"Allegedly Armed/NY\",\"Vehicle/CA\",\"Unclear/CA\",\"Unarmed/CA\",\"Allegedly Armed/CA\",\"Vehicle/TX\",\"Unclear/TX\",\"Unclear/NY\",\"Allegedly Armed/NY\",\"Allegedly Armed/TX/Hispanic\",\"Unclear/TX/White\",\"\",\"Allegedly Armed/CA/White\",\"Unarmed/CA/White\",\"Unclear/CA/White\",\"Vehicle/CA/Black\",\"Unclear/CA/Black\",\"Unarmed/CA/Black\",\"Allegedly Armed/CA/Black\",\"Vehicle/TX/Asian\",\"Allegedly Armed/TX/Asian\",\"Allegedly Armed/NY/Asian\",\"Vehicle/CA/Asian\",\"Unclear/CA/Asian\",\"Unarmed/CA/Asian\",\"Unclear/NY/Hispanic\",\"Allegedly Armed/NY/White\",\"Unarmed/NY/White\",\"Allegedly Armed/CA/Asian\",\"Vehicle/TX/White\",\"Unclear/TX/White\",\"Allegedly Armed/NY/Black\",\"Unclear/NY/Black\",\"Unarmed/NY/Black\",\"Unarmed/NY/Black\",\"Unarmed/NY/Hispanic\",\"Allegedly Armed/NY/Hispanic\",\"Allegedly Armed/CA/Black\",\"Vehicle/CA/Hispanic\",\"Unclear/CA/Hispanic\",\"Vehicle/CA/Black\",\"Allegedly Armed/NY/Black\",\"Vehicle/NY/Black\",\"Allegedly Armed/TX/Black\",\"Unarmed/TX/White\",\"Unclear/TX/Black\",\"Unarmed/TX/Black\",\"Unarmed/CA/Hispanic\",\"Vehicle/CA/Hispanic\",\"Unarmed/NY/Hispanic\",\"Vehicle/TX/Hispanic\",\"Allegedly armed/CA/Hispanic\",\"Unarmed/TX/Black\",\"Vehicle/TX/Black\",\"Vehicle/CA/White\",\"Allegedly Armed/CA/Hispanic\",\"\",\"Allegedly Armed/TX/White\",\"Unarmed/CA\",\"Vehicle/CA\",\"Unclear/CA\",\"Unarmed/TX/White\",\"Allegedly Armed/TX/Black\",\"Allegedly Armed/CA\",\"Allegedly Armed/TX\",\"Vehicle/TX/Hispanic\",\"Unarmed/CA/White\",\"Unarmed/CA/Black\",\"Unarmed/NY/White\",\"Allegedly Armed/CA/Hispanic\",\"Unarmed/TX/Hispanic\",\"Vehicle\",\"Unclear\",\"Allegedly Armed\",\"Unclear\",\"Allegedly armed/TX/Black\",\"Allegedly Armed/TX/Black\",\"Vehicle/TX\",\"Unarmed/TX/Hispanic\",\"Vehicle/CA\",\"Unarmed/CA\",\"Unclear/CA\",\"Vehicle/CA\",\"Unclear/TX\",\"Unarmed/TX\",\"Unarmed/TX/Hispanic\",\"Allegedly Armed/TX/Hispanic\",\"Unclear/TX\",\"Unarmed/TX\",\"Unarmed/CA/Hispanic\"],\"textinfo\":\"label+percent parent\",\"type\":\"sunburst\",\"values\":[3,18,43,1,122,3,7,17,59,137,1,14,2,4,5,1,13,209,208,2,50,18,38,244,392,20,2,6,3,1546,45,56,114,1,586,36,78,219,2,834,229,2,13,51,23,39,69,264,12,20,2,14,219,23,126,20,8,1,10,28,43,132,1,14,2,2,4,5,2,1,2,38,1,1,55,7,15,2,5,14,5,35,71,2,3,3,4,7,12,4,5,6,1,2,2,39,18,5,13,369,21,101,41,71,30,1,41,221,10,61,1,11,379,1,3,11,126,142,1,117,14,8,2,44,28,12,12,34,25,2,24,37,96]}],                        {\"autosize\":false,\"height\":800,\"legend\":{\"tracegroupgap\":0},\"sunburstcolorway\":[\"rgb(102, 197, 204)\",\"rgb(246, 207, 113)\",\"rgb(248, 156, 116)\",\"rgb(220, 176, 242)\",\"rgb(135, 197, 95)\",\"rgb(158, 185, 243)\",\"rgb(254, 136, 177)\",\"rgb(201, 219, 116)\",\"rgb(139, 224, 164)\",\"rgb(180, 151, 231)\",\"rgb(179, 179, 179)\"],\"template\":{\"data\":{\"bar\":[{\"error_x\":{\"color\":\"rgb(51,51,51)\"},\"error_y\":{\"color\":\"rgb(51,51,51)\"},\"marker\":{\"line\":{\"color\":\"rgb(237,237,237)\",\"width\":0.5},\"pattern\":{\"fillmode\":\"overlay\",\"size\":10,\"solidity\":0.2}},\"type\":\"bar\"}],\"barpolar\":[{\"marker\":{\"line\":{\"color\":\"rgb(237,237,237)\",\"width\":0.5},\"pattern\":{\"fillmode\":\"overlay\",\"size\":10,\"solidity\":0.2}},\"type\":\"barpolar\"}],\"carpet\":[{\"aaxis\":{\"endlinecolor\":\"rgb(51,51,51)\",\"gridcolor\":\"white\",\"linecolor\":\"white\",\"minorgridcolor\":\"white\",\"startlinecolor\":\"rgb(51,51,51)\"},\"baxis\":{\"endlinecolor\":\"rgb(51,51,51)\",\"gridcolor\":\"white\",\"linecolor\":\"white\",\"minorgridcolor\":\"white\",\"startlinecolor\":\"rgb(51,51,51)\"},\"type\":\"carpet\"}],\"choropleth\":[{\"colorbar\":{\"outlinewidth\":0,\"tickcolor\":\"rgb(237,237,237)\",\"ticklen\":6,\"ticks\":\"inside\"},\"type\":\"choropleth\"}],\"contour\":[{\"colorbar\":{\"outlinewidth\":0,\"tickcolor\":\"rgb(237,237,237)\",\"ticklen\":6,\"ticks\":\"inside\"},\"colorscale\":[[0,\"rgb(20,44,66)\"],[1,\"rgb(90,179,244)\"]],\"type\":\"contour\"}],\"contourcarpet\":[{\"colorbar\":{\"outlinewidth\":0,\"tickcolor\":\"rgb(237,237,237)\",\"ticklen\":6,\"ticks\":\"inside\"},\"type\":\"contourcarpet\"}],\"heatmap\":[{\"colorbar\":{\"outlinewidth\":0,\"tickcolor\":\"rgb(237,237,237)\",\"ticklen\":6,\"ticks\":\"inside\"},\"colorscale\":[[0,\"rgb(20,44,66)\"],[1,\"rgb(90,179,244)\"]],\"type\":\"heatmap\"}],\"heatmapgl\":[{\"colorbar\":{\"outlinewidth\":0,\"tickcolor\":\"rgb(237,237,237)\",\"ticklen\":6,\"ticks\":\"inside\"},\"colorscale\":[[0,\"rgb(20,44,66)\"],[1,\"rgb(90,179,244)\"]],\"type\":\"heatmapgl\"}],\"histogram\":[{\"marker\":{\"pattern\":{\"fillmode\":\"overlay\",\"size\":10,\"solidity\":0.2}},\"type\":\"histogram\"}],\"histogram2d\":[{\"colorbar\":{\"outlinewidth\":0,\"tickcolor\":\"rgb(237,237,237)\",\"ticklen\":6,\"ticks\":\"inside\"},\"colorscale\":[[0,\"rgb(20,44,66)\"],[1,\"rgb(90,179,244)\"]],\"type\":\"histogram2d\"}],\"histogram2dcontour\":[{\"colorbar\":{\"outlinewidth\":0,\"tickcolor\":\"rgb(237,237,237)\",\"ticklen\":6,\"ticks\":\"inside\"},\"colorscale\":[[0,\"rgb(20,44,66)\"],[1,\"rgb(90,179,244)\"]],\"type\":\"histogram2dcontour\"}],\"mesh3d\":[{\"colorbar\":{\"outlinewidth\":0,\"tickcolor\":\"rgb(237,237,237)\",\"ticklen\":6,\"ticks\":\"inside\"},\"type\":\"mesh3d\"}],\"parcoords\":[{\"line\":{\"colorbar\":{\"outlinewidth\":0,\"tickcolor\":\"rgb(237,237,237)\",\"ticklen\":6,\"ticks\":\"inside\"}},\"type\":\"parcoords\"}],\"pie\":[{\"automargin\":true,\"type\":\"pie\"}],\"scatter\":[{\"marker\":{\"colorbar\":{\"outlinewidth\":0,\"tickcolor\":\"rgb(237,237,237)\",\"ticklen\":6,\"ticks\":\"inside\"}},\"type\":\"scatter\"}],\"scatter3d\":[{\"line\":{\"colorbar\":{\"outlinewidth\":0,\"tickcolor\":\"rgb(237,237,237)\",\"ticklen\":6,\"ticks\":\"inside\"}},\"marker\":{\"colorbar\":{\"outlinewidth\":0,\"tickcolor\":\"rgb(237,237,237)\",\"ticklen\":6,\"ticks\":\"inside\"}},\"type\":\"scatter3d\"}],\"scattercarpet\":[{\"marker\":{\"colorbar\":{\"outlinewidth\":0,\"tickcolor\":\"rgb(237,237,237)\",\"ticklen\":6,\"ticks\":\"inside\"}},\"type\":\"scattercarpet\"}],\"scattergeo\":[{\"marker\":{\"colorbar\":{\"outlinewidth\":0,\"tickcolor\":\"rgb(237,237,237)\",\"ticklen\":6,\"ticks\":\"inside\"}},\"type\":\"scattergeo\"}],\"scattergl\":[{\"marker\":{\"colorbar\":{\"outlinewidth\":0,\"tickcolor\":\"rgb(237,237,237)\",\"ticklen\":6,\"ticks\":\"inside\"}},\"type\":\"scattergl\"}],\"scattermapbox\":[{\"marker\":{\"colorbar\":{\"outlinewidth\":0,\"tickcolor\":\"rgb(237,237,237)\",\"ticklen\":6,\"ticks\":\"inside\"}},\"type\":\"scattermapbox\"}],\"scatterpolar\":[{\"marker\":{\"colorbar\":{\"outlinewidth\":0,\"tickcolor\":\"rgb(237,237,237)\",\"ticklen\":6,\"ticks\":\"inside\"}},\"type\":\"scatterpolar\"}],\"scatterpolargl\":[{\"marker\":{\"colorbar\":{\"outlinewidth\":0,\"tickcolor\":\"rgb(237,237,237)\",\"ticklen\":6,\"ticks\":\"inside\"}},\"type\":\"scatterpolargl\"}],\"scatterternary\":[{\"marker\":{\"colorbar\":{\"outlinewidth\":0,\"tickcolor\":\"rgb(237,237,237)\",\"ticklen\":6,\"ticks\":\"inside\"}},\"type\":\"scatterternary\"}],\"surface\":[{\"colorbar\":{\"outlinewidth\":0,\"tickcolor\":\"rgb(237,237,237)\",\"ticklen\":6,\"ticks\":\"inside\"},\"colorscale\":[[0,\"rgb(20,44,66)\"],[1,\"rgb(90,179,244)\"]],\"type\":\"surface\"}],\"table\":[{\"cells\":{\"fill\":{\"color\":\"rgb(237,237,237)\"},\"line\":{\"color\":\"white\"}},\"header\":{\"fill\":{\"color\":\"rgb(217,217,217)\"},\"line\":{\"color\":\"white\"}},\"type\":\"table\"}]},\"layout\":{\"annotationdefaults\":{\"arrowhead\":0,\"arrowwidth\":1},\"autotypenumbers\":\"strict\",\"coloraxis\":{\"colorbar\":{\"outlinewidth\":0,\"tickcolor\":\"rgb(237,237,237)\",\"ticklen\":6,\"ticks\":\"inside\"}},\"colorscale\":{\"sequential\":[[0,\"rgb(20,44,66)\"],[1,\"rgb(90,179,244)\"]],\"sequentialminus\":[[0,\"rgb(20,44,66)\"],[1,\"rgb(90,179,244)\"]]},\"colorway\":[\"#F8766D\",\"#A3A500\",\"#00BF7D\",\"#00B0F6\",\"#E76BF3\"],\"font\":{\"color\":\"rgb(51,51,51)\"},\"geo\":{\"bgcolor\":\"white\",\"lakecolor\":\"white\",\"landcolor\":\"rgb(237,237,237)\",\"showlakes\":true,\"showland\":true,\"subunitcolor\":\"white\"},\"hoverlabel\":{\"align\":\"left\"},\"hovermode\":\"closest\",\"paper_bgcolor\":\"white\",\"plot_bgcolor\":\"rgb(237,237,237)\",\"polar\":{\"angularaxis\":{\"gridcolor\":\"white\",\"linecolor\":\"white\",\"showgrid\":true,\"tickcolor\":\"rgb(51,51,51)\",\"ticks\":\"outside\"},\"bgcolor\":\"rgb(237,237,237)\",\"radialaxis\":{\"gridcolor\":\"white\",\"linecolor\":\"white\",\"showgrid\":true,\"tickcolor\":\"rgb(51,51,51)\",\"ticks\":\"outside\"}},\"scene\":{\"xaxis\":{\"backgroundcolor\":\"rgb(237,237,237)\",\"gridcolor\":\"white\",\"gridwidth\":2,\"linecolor\":\"white\",\"showbackground\":true,\"showgrid\":true,\"tickcolor\":\"rgb(51,51,51)\",\"ticks\":\"outside\",\"zerolinecolor\":\"white\"},\"yaxis\":{\"backgroundcolor\":\"rgb(237,237,237)\",\"gridcolor\":\"white\",\"gridwidth\":2,\"linecolor\":\"white\",\"showbackground\":true,\"showgrid\":true,\"tickcolor\":\"rgb(51,51,51)\",\"ticks\":\"outside\",\"zerolinecolor\":\"white\"},\"zaxis\":{\"backgroundcolor\":\"rgb(237,237,237)\",\"gridcolor\":\"white\",\"gridwidth\":2,\"linecolor\":\"white\",\"showbackground\":true,\"showgrid\":true,\"tickcolor\":\"rgb(51,51,51)\",\"ticks\":\"outside\",\"zerolinecolor\":\"white\"}},\"shapedefaults\":{\"fillcolor\":\"black\",\"line\":{\"width\":0},\"opacity\":0.3},\"ternary\":{\"aaxis\":{\"gridcolor\":\"white\",\"linecolor\":\"white\",\"showgrid\":true,\"tickcolor\":\"rgb(51,51,51)\",\"ticks\":\"outside\"},\"baxis\":{\"gridcolor\":\"white\",\"linecolor\":\"white\",\"showgrid\":true,\"tickcolor\":\"rgb(51,51,51)\",\"ticks\":\"outside\"},\"bgcolor\":\"rgb(237,237,237)\",\"caxis\":{\"gridcolor\":\"white\",\"linecolor\":\"white\",\"showgrid\":true,\"tickcolor\":\"rgb(51,51,51)\",\"ticks\":\"outside\"}},\"xaxis\":{\"automargin\":true,\"gridcolor\":\"white\",\"linecolor\":\"white\",\"showgrid\":true,\"tickcolor\":\"rgb(51,51,51)\",\"ticks\":\"outside\",\"title\":{\"standoff\":15},\"zerolinecolor\":\"white\"},\"yaxis\":{\"automargin\":true,\"gridcolor\":\"white\",\"linecolor\":\"white\",\"showgrid\":true,\"tickcolor\":\"rgb(51,51,51)\",\"ticks\":\"outside\",\"title\":{\"standoff\":15},\"zerolinecolor\":\"white\"}}},\"title\":{\"text\":\"7-year Breakdown of Deaths by Police - 4 Branch\"},\"width\":800},                        {\"responsive\": true}                    ).then(function(){\n",
       "                            \n",
       "var gd = document.getElementById('421cbb7e-a53b-4f8f-b789-24ec293c3be9');\n",
       "var x = new MutationObserver(function (mutations, observer) {{\n",
       "        var display = window.getComputedStyle(gd).display;\n",
       "        if (!display || display === 'none') {{\n",
       "            console.log([gd, 'removed!']);\n",
       "            Plotly.purge(gd);\n",
       "            observer.disconnect();\n",
       "        }}\n",
       "}});\n",
       "\n",
       "// Listen for the removal of the full notebook cells\n",
       "var notebookContainer = gd.closest('#notebook-container');\n",
       "if (notebookContainer) {{\n",
       "    x.observe(notebookContainer, {childList: true});\n",
       "}}\n",
       "\n",
       "// Listen for the clearing of the current output cell\n",
       "var outputEl = gd.closest('.output');\n",
       "if (outputEl) {{\n",
       "    x.observe(outputEl, {childList: true});\n",
       "}}\n",
       "\n",
       "                        })                };                });            </script>        </div>"
      ]
     },
     "metadata": {},
     "output_type": "display_data"
    }
   ],
   "source": [
    "fig = px.sunburst(\n",
    "    data_frame=df,\n",
    "    path=[\"Armed/Unarmed Status\", 'State', \"Victim's race\", \"Victim's gender\"],  # Root, branches, leaves\n",
    "    color=\"Armed/Unarmed Status\",\n",
    "    color_discrete_sequence=px.colors.qualitative.Pastel,\n",
    "    maxdepth=-1,    \n",
    "     title=\"7-year Breakdown of Deaths by Police - 4 Branch\",\n",
    "    template='ggplot2', \n",
    "   \n",
    ")\n",
    "\n",
    "fig.update_traces(textinfo='label+percent parent')\n",
    "fig.update_layout(\n",
    "    autosize=False,\n",
    "    width=800,\n",
    "    height=800,)\n",
    "\n",
    "fig.show()"
   ]
  },
  {
   "cell_type": "code",
   "execution_count": 7,
   "id": "345c732a",
   "metadata": {
    "execution": {
     "iopub.execute_input": "2021-10-07T06:22:05.750537Z",
     "iopub.status.busy": "2021-10-07T06:22:05.748773Z",
     "iopub.status.idle": "2021-10-07T06:22:05.901859Z",
     "shell.execute_reply": "2021-10-07T06:22:05.901267Z",
     "shell.execute_reply.started": "2021-10-07T06:18:24.340471Z"
    },
    "papermill": {
     "duration": 0.183514,
     "end_time": "2021-10-07T06:22:05.902007",
     "exception": false,
     "start_time": "2021-10-07T06:22:05.718493",
     "status": "completed"
    },
    "tags": []
   },
   "outputs": [
    {
     "data": {
      "text/html": [
       "<div>                            <div id=\"7c31df2d-0d08-4c68-b349-0aa81a9ae922\" class=\"plotly-graph-div\" style=\"height:800px; width:800px;\"></div>            <script type=\"text/javascript\">                require([\"plotly\"], function(Plotly) {                    window.PLOTLYENV=window.PLOTLYENV || {};                                    if (document.getElementById(\"7c31df2d-0d08-4c68-b349-0aa81a9ae922\")) {                    Plotly.newPlot(                        \"7c31df2d-0d08-4c68-b349-0aa81a9ae922\",                        [{\"branchvalues\":\"total\",\"customdata\":[[\"Male\"],[\"Transgender\"],[\"Transgender\"],[\"Unknown\"],[\"(?)\"],[\"(?)\"],[\"(?)\"],[\"Male\"],[\"Male\"],[\"Male\"],[\"(?)\"],[\"(?)\"],[\"(?)\"],[\"Male\"],[\"(?)\"],[\"(?)\"],[\"Male\"],[\"(?)\"],[\"(?)\"],[\"(?)\"],[\"Male\"],[\"Female\"],[\"Male\"],[\"Female\"],[\"Female\"],[\"Female\"],[\"Female\"],[\"Female\"],[\"Female\"],[\"Female\"],[\"Female\"],[\"Female\"],[\"Male\"],[\"Male\"],[\"Male\"],[\"Male\"],[\"Male\"],[\"Male\"],[\"Male\"],[\"Male\"],[\"Male\"],[\"Male\"],[\"(?)\"],[\"(?)\"]],\"domain\":{\"x\":[0.0,1.0],\"y\":[0.0,1.0]},\"hovertemplate\":\"labels=%{label}<br>count=%{value}<br>parent=%{parent}<br>id=%{id}<br>Victim's gender=%{customdata[0]}<extra></extra>\",\"ids\":[\"CA/Vehicle/Male\",\"NY/Allegedly Armed/Transgender\",\"TX/Unarmed/Transgender\",\"TX/Allegedly Armed/Unknown\",\"CA/Allegedly Armed\",\"NY/Allegedly Armed\",\"TX/Allegedly Armed\",\"CA/Allegedly armed\",\"TX/Allegedly armed\",\"TX/Vehicle/Male\",\"CA/Unarmed\",\"TX/Unarmed\",\"CA/Unclear\",\"NY/Unclear\",\"TX/Unclear\",\"CA/Vehicle\",\"NY/Vehicle\",\"TX/Vehicle\",\"CA\",\"NY/Unarmed\",\"NY/Vehicle/Male\",\"CA/Allegedly Armed/Female\",\"TX/Unclear/Male\",\"NY/Allegedly Armed/Female\",\"TX/Allegedly Armed/Female\",\"CA/Unarmed/Female\",\"NY/Unarmed/Female\",\"TX/Unarmed/Female\",\"CA/Unclear/Female\",\"TX/Unclear/Female\",\"CA/Vehicle/Female\",\"TX/Vehicle/Female\",\"CA/Allegedly Armed/Male\",\"NY/Allegedly Armed/Male\",\"TX/Allegedly Armed/Male\",\"CA/Allegedly armed/Male\",\"TX/Allegedly armed/Male\",\"CA/Unarmed/Male\",\"NY/Unarmed/Male\",\"TX/Unarmed/Male\",\"CA/Unclear/Male\",\"NY/Unclear/Male\",\"NY\",\"TX\"],\"labels\":[\"Male\",\"Transgender\",\"Transgender\",\"Unknown\",\"Allegedly Armed\",\"Allegedly Armed\",\"Allegedly Armed\",\"Allegedly armed\",\"Allegedly armed\",\"Male\",\"Unarmed\",\"Unarmed\",\"Unclear\",\"Unclear\",\"Unclear\",\"Vehicle\",\"Vehicle\",\"Vehicle\",\"CA\",\"Unarmed\",\"Male\",\"Female\",\"Male\",\"Female\",\"Female\",\"Female\",\"Female\",\"Female\",\"Female\",\"Female\",\"Female\",\"Female\",\"Male\",\"Male\",\"Male\",\"Male\",\"Male\",\"Male\",\"Male\",\"Male\",\"Male\",\"Male\",\"NY\",\"TX\"],\"marker\":{\"colors\":[\"#A88AE6\",\"#00BF7D\",\"#00BF7D\",\"#00B0F6\",\"#E76BF3\",\"#E76BF3\",\"#E76BF3\",\"#A88AE6\",\"#A88AE6\",\"#A88AE6\",\"#E76BF3\",\"#E76BF3\",\"#E76BF3\",\"#A88AE6\",\"#E76BF3\",\"#E76BF3\",\"#A88AE6\",\"#E76BF3\",\"#E76BF3\",\"#E76BF3\",\"#A88AE6\",\"#6FE6B9\",\"#A88AE6\",\"#6FE6B9\",\"#6FE6B9\",\"#6FE6B9\",\"#6FE6B9\",\"#6FE6B9\",\"#6FE6B9\",\"#6FE6B9\",\"#6FE6B9\",\"#6FE6B9\",\"#A88AE6\",\"#A88AE6\",\"#A88AE6\",\"#A88AE6\",\"#A88AE6\",\"#A88AE6\",\"#A88AE6\",\"#A88AE6\",\"#A88AE6\",\"#A88AE6\",\"#E76BF3\",\"#E76BF3\"]},\"maxdepth\":-1,\"name\":\"\",\"parents\":[\"CA/Vehicle\",\"NY/Allegedly Armed\",\"TX/Unarmed\",\"TX/Allegedly Armed\",\"CA\",\"NY\",\"TX\",\"CA\",\"TX\",\"TX/Vehicle\",\"CA\",\"TX\",\"CA\",\"NY\",\"TX\",\"CA\",\"NY\",\"TX\",\"\",\"NY\",\"NY/Vehicle\",\"CA/Allegedly Armed\",\"TX/Unclear\",\"NY/Allegedly Armed\",\"TX/Allegedly Armed\",\"CA/Unarmed\",\"NY/Unarmed\",\"TX/Unarmed\",\"CA/Unclear\",\"TX/Unclear\",\"CA/Vehicle\",\"TX/Vehicle\",\"CA/Allegedly Armed\",\"NY/Allegedly Armed\",\"TX/Allegedly Armed\",\"CA/Allegedly armed\",\"TX/Allegedly armed\",\"CA/Unarmed\",\"NY/Unarmed\",\"TX/Unarmed\",\"CA/Unclear\",\"NY/Unclear\",\"\",\"\"],\"textinfo\":\"label+percent parent\",\"type\":\"sunburst\",\"values\":[65,1,1,1,834,126,586,2,1,42,219,114,142,11,56,78,3,45,1275,36,3,41,55,4,27,14,5,19,1,1,13,3,793,121,558,2,1,205,31,94,141,11,176,802]}],                        {\"autosize\":false,\"height\":800,\"legend\":{\"tracegroupgap\":0},\"template\":{\"data\":{\"bar\":[{\"error_x\":{\"color\":\"rgb(51,51,51)\"},\"error_y\":{\"color\":\"rgb(51,51,51)\"},\"marker\":{\"line\":{\"color\":\"rgb(237,237,237)\",\"width\":0.5},\"pattern\":{\"fillmode\":\"overlay\",\"size\":10,\"solidity\":0.2}},\"type\":\"bar\"}],\"barpolar\":[{\"marker\":{\"line\":{\"color\":\"rgb(237,237,237)\",\"width\":0.5},\"pattern\":{\"fillmode\":\"overlay\",\"size\":10,\"solidity\":0.2}},\"type\":\"barpolar\"}],\"carpet\":[{\"aaxis\":{\"endlinecolor\":\"rgb(51,51,51)\",\"gridcolor\":\"white\",\"linecolor\":\"white\",\"minorgridcolor\":\"white\",\"startlinecolor\":\"rgb(51,51,51)\"},\"baxis\":{\"endlinecolor\":\"rgb(51,51,51)\",\"gridcolor\":\"white\",\"linecolor\":\"white\",\"minorgridcolor\":\"white\",\"startlinecolor\":\"rgb(51,51,51)\"},\"type\":\"carpet\"}],\"choropleth\":[{\"colorbar\":{\"outlinewidth\":0,\"tickcolor\":\"rgb(237,237,237)\",\"ticklen\":6,\"ticks\":\"inside\"},\"type\":\"choropleth\"}],\"contour\":[{\"colorbar\":{\"outlinewidth\":0,\"tickcolor\":\"rgb(237,237,237)\",\"ticklen\":6,\"ticks\":\"inside\"},\"colorscale\":[[0,\"rgb(20,44,66)\"],[1,\"rgb(90,179,244)\"]],\"type\":\"contour\"}],\"contourcarpet\":[{\"colorbar\":{\"outlinewidth\":0,\"tickcolor\":\"rgb(237,237,237)\",\"ticklen\":6,\"ticks\":\"inside\"},\"type\":\"contourcarpet\"}],\"heatmap\":[{\"colorbar\":{\"outlinewidth\":0,\"tickcolor\":\"rgb(237,237,237)\",\"ticklen\":6,\"ticks\":\"inside\"},\"colorscale\":[[0,\"rgb(20,44,66)\"],[1,\"rgb(90,179,244)\"]],\"type\":\"heatmap\"}],\"heatmapgl\":[{\"colorbar\":{\"outlinewidth\":0,\"tickcolor\":\"rgb(237,237,237)\",\"ticklen\":6,\"ticks\":\"inside\"},\"colorscale\":[[0,\"rgb(20,44,66)\"],[1,\"rgb(90,179,244)\"]],\"type\":\"heatmapgl\"}],\"histogram\":[{\"marker\":{\"pattern\":{\"fillmode\":\"overlay\",\"size\":10,\"solidity\":0.2}},\"type\":\"histogram\"}],\"histogram2d\":[{\"colorbar\":{\"outlinewidth\":0,\"tickcolor\":\"rgb(237,237,237)\",\"ticklen\":6,\"ticks\":\"inside\"},\"colorscale\":[[0,\"rgb(20,44,66)\"],[1,\"rgb(90,179,244)\"]],\"type\":\"histogram2d\"}],\"histogram2dcontour\":[{\"colorbar\":{\"outlinewidth\":0,\"tickcolor\":\"rgb(237,237,237)\",\"ticklen\":6,\"ticks\":\"inside\"},\"colorscale\":[[0,\"rgb(20,44,66)\"],[1,\"rgb(90,179,244)\"]],\"type\":\"histogram2dcontour\"}],\"mesh3d\":[{\"colorbar\":{\"outlinewidth\":0,\"tickcolor\":\"rgb(237,237,237)\",\"ticklen\":6,\"ticks\":\"inside\"},\"type\":\"mesh3d\"}],\"parcoords\":[{\"line\":{\"colorbar\":{\"outlinewidth\":0,\"tickcolor\":\"rgb(237,237,237)\",\"ticklen\":6,\"ticks\":\"inside\"}},\"type\":\"parcoords\"}],\"pie\":[{\"automargin\":true,\"type\":\"pie\"}],\"scatter\":[{\"marker\":{\"colorbar\":{\"outlinewidth\":0,\"tickcolor\":\"rgb(237,237,237)\",\"ticklen\":6,\"ticks\":\"inside\"}},\"type\":\"scatter\"}],\"scatter3d\":[{\"line\":{\"colorbar\":{\"outlinewidth\":0,\"tickcolor\":\"rgb(237,237,237)\",\"ticklen\":6,\"ticks\":\"inside\"}},\"marker\":{\"colorbar\":{\"outlinewidth\":0,\"tickcolor\":\"rgb(237,237,237)\",\"ticklen\":6,\"ticks\":\"inside\"}},\"type\":\"scatter3d\"}],\"scattercarpet\":[{\"marker\":{\"colorbar\":{\"outlinewidth\":0,\"tickcolor\":\"rgb(237,237,237)\",\"ticklen\":6,\"ticks\":\"inside\"}},\"type\":\"scattercarpet\"}],\"scattergeo\":[{\"marker\":{\"colorbar\":{\"outlinewidth\":0,\"tickcolor\":\"rgb(237,237,237)\",\"ticklen\":6,\"ticks\":\"inside\"}},\"type\":\"scattergeo\"}],\"scattergl\":[{\"marker\":{\"colorbar\":{\"outlinewidth\":0,\"tickcolor\":\"rgb(237,237,237)\",\"ticklen\":6,\"ticks\":\"inside\"}},\"type\":\"scattergl\"}],\"scattermapbox\":[{\"marker\":{\"colorbar\":{\"outlinewidth\":0,\"tickcolor\":\"rgb(237,237,237)\",\"ticklen\":6,\"ticks\":\"inside\"}},\"type\":\"scattermapbox\"}],\"scatterpolar\":[{\"marker\":{\"colorbar\":{\"outlinewidth\":0,\"tickcolor\":\"rgb(237,237,237)\",\"ticklen\":6,\"ticks\":\"inside\"}},\"type\":\"scatterpolar\"}],\"scatterpolargl\":[{\"marker\":{\"colorbar\":{\"outlinewidth\":0,\"tickcolor\":\"rgb(237,237,237)\",\"ticklen\":6,\"ticks\":\"inside\"}},\"type\":\"scatterpolargl\"}],\"scatterternary\":[{\"marker\":{\"colorbar\":{\"outlinewidth\":0,\"tickcolor\":\"rgb(237,237,237)\",\"ticklen\":6,\"ticks\":\"inside\"}},\"type\":\"scatterternary\"}],\"surface\":[{\"colorbar\":{\"outlinewidth\":0,\"tickcolor\":\"rgb(237,237,237)\",\"ticklen\":6,\"ticks\":\"inside\"},\"colorscale\":[[0,\"rgb(20,44,66)\"],[1,\"rgb(90,179,244)\"]],\"type\":\"surface\"}],\"table\":[{\"cells\":{\"fill\":{\"color\":\"rgb(237,237,237)\"},\"line\":{\"color\":\"white\"}},\"header\":{\"fill\":{\"color\":\"rgb(217,217,217)\"},\"line\":{\"color\":\"white\"}},\"type\":\"table\"}]},\"layout\":{\"annotationdefaults\":{\"arrowhead\":0,\"arrowwidth\":1},\"autotypenumbers\":\"strict\",\"coloraxis\":{\"colorbar\":{\"outlinewidth\":0,\"tickcolor\":\"rgb(237,237,237)\",\"ticklen\":6,\"ticks\":\"inside\"}},\"colorscale\":{\"sequential\":[[0,\"rgb(20,44,66)\"],[1,\"rgb(90,179,244)\"]],\"sequentialminus\":[[0,\"rgb(20,44,66)\"],[1,\"rgb(90,179,244)\"]]},\"colorway\":[\"#F8766D\",\"#A3A500\",\"#00BF7D\",\"#00B0F6\",\"#E76BF3\"],\"font\":{\"color\":\"rgb(51,51,51)\"},\"geo\":{\"bgcolor\":\"white\",\"lakecolor\":\"white\",\"landcolor\":\"rgb(237,237,237)\",\"showlakes\":true,\"showland\":true,\"subunitcolor\":\"white\"},\"hoverlabel\":{\"align\":\"left\"},\"hovermode\":\"closest\",\"paper_bgcolor\":\"white\",\"plot_bgcolor\":\"rgb(237,237,237)\",\"polar\":{\"angularaxis\":{\"gridcolor\":\"white\",\"linecolor\":\"white\",\"showgrid\":true,\"tickcolor\":\"rgb(51,51,51)\",\"ticks\":\"outside\"},\"bgcolor\":\"rgb(237,237,237)\",\"radialaxis\":{\"gridcolor\":\"white\",\"linecolor\":\"white\",\"showgrid\":true,\"tickcolor\":\"rgb(51,51,51)\",\"ticks\":\"outside\"}},\"scene\":{\"xaxis\":{\"backgroundcolor\":\"rgb(237,237,237)\",\"gridcolor\":\"white\",\"gridwidth\":2,\"linecolor\":\"white\",\"showbackground\":true,\"showgrid\":true,\"tickcolor\":\"rgb(51,51,51)\",\"ticks\":\"outside\",\"zerolinecolor\":\"white\"},\"yaxis\":{\"backgroundcolor\":\"rgb(237,237,237)\",\"gridcolor\":\"white\",\"gridwidth\":2,\"linecolor\":\"white\",\"showbackground\":true,\"showgrid\":true,\"tickcolor\":\"rgb(51,51,51)\",\"ticks\":\"outside\",\"zerolinecolor\":\"white\"},\"zaxis\":{\"backgroundcolor\":\"rgb(237,237,237)\",\"gridcolor\":\"white\",\"gridwidth\":2,\"linecolor\":\"white\",\"showbackground\":true,\"showgrid\":true,\"tickcolor\":\"rgb(51,51,51)\",\"ticks\":\"outside\",\"zerolinecolor\":\"white\"}},\"shapedefaults\":{\"fillcolor\":\"black\",\"line\":{\"width\":0},\"opacity\":0.3},\"ternary\":{\"aaxis\":{\"gridcolor\":\"white\",\"linecolor\":\"white\",\"showgrid\":true,\"tickcolor\":\"rgb(51,51,51)\",\"ticks\":\"outside\"},\"baxis\":{\"gridcolor\":\"white\",\"linecolor\":\"white\",\"showgrid\":true,\"tickcolor\":\"rgb(51,51,51)\",\"ticks\":\"outside\"},\"bgcolor\":\"rgb(237,237,237)\",\"caxis\":{\"gridcolor\":\"white\",\"linecolor\":\"white\",\"showgrid\":true,\"tickcolor\":\"rgb(51,51,51)\",\"ticks\":\"outside\"}},\"xaxis\":{\"automargin\":true,\"gridcolor\":\"white\",\"linecolor\":\"white\",\"showgrid\":true,\"tickcolor\":\"rgb(51,51,51)\",\"ticks\":\"outside\",\"title\":{\"standoff\":15},\"zerolinecolor\":\"white\"},\"yaxis\":{\"automargin\":true,\"gridcolor\":\"white\",\"linecolor\":\"white\",\"showgrid\":true,\"tickcolor\":\"rgb(51,51,51)\",\"ticks\":\"outside\",\"title\":{\"standoff\":15},\"zerolinecolor\":\"white\"}}},\"title\":{\"text\":\"7-year Breakdown of Deaths by Police - Gender Focus\"},\"width\":800},                        {\"responsive\": true}                    ).then(function(){\n",
       "                            \n",
       "var gd = document.getElementById('7c31df2d-0d08-4c68-b349-0aa81a9ae922');\n",
       "var x = new MutationObserver(function (mutations, observer) {{\n",
       "        var display = window.getComputedStyle(gd).display;\n",
       "        if (!display || display === 'none') {{\n",
       "            console.log([gd, 'removed!']);\n",
       "            Plotly.purge(gd);\n",
       "            observer.disconnect();\n",
       "        }}\n",
       "}});\n",
       "\n",
       "// Listen for the removal of the full notebook cells\n",
       "var notebookContainer = gd.closest('#notebook-container');\n",
       "if (notebookContainer) {{\n",
       "    x.observe(notebookContainer, {childList: true});\n",
       "}}\n",
       "\n",
       "// Listen for the clearing of the current output cell\n",
       "var outputEl = gd.closest('.output');\n",
       "if (outputEl) {{\n",
       "    x.observe(outputEl, {childList: true});\n",
       "}}\n",
       "\n",
       "                        })                };                });            </script>        </div>"
      ]
     },
     "metadata": {},
     "output_type": "display_data"
    }
   ],
   "source": [
    "fig = px.sunburst(\n",
    "    data_frame=df,\n",
    "    path=[\"State\", \"Armed/Unarmed Status\", \"Victim's gender\"],  # Root, branches, leaves\n",
    "    maxdepth=-1,                        # set the sectors rendered. -1 will render all levels in the hierarchy\n",
    "   \n",
    "    \n",
    "    color=\"Victim's gender\",\n",
    "    color_discrete_map={'Male':'#A88AE6', 'Female':'#6FE6B9'},\n",
    "    \n",
    "    \n",
    "    title=\"7-year Breakdown of Deaths by Police - Gender Focus\",\n",
    "    template='ggplot2'                                  \n",
    ")\n",
    "\n",
    "fig.update_traces(textinfo='label+percent parent')\n",
    "#fig.update_layout(margin=dict(t=0, l=0, r=0, b=0))\n",
    "fig.update_layout(\n",
    "    autosize=False,\n",
    "    width=800,\n",
    "    height=800,)\n",
    "fig.show()"
   ]
  },
  {
   "cell_type": "code",
   "execution_count": 8,
   "id": "e8bdb92b",
   "metadata": {
    "execution": {
     "iopub.execute_input": "2021-10-07T06:22:05.949040Z",
     "iopub.status.busy": "2021-10-07T06:22:05.948302Z",
     "iopub.status.idle": "2021-10-07T06:22:06.149257Z",
     "shell.execute_reply": "2021-10-07T06:22:06.149791Z",
     "shell.execute_reply.started": "2021-10-07T06:09:06.752268Z"
    },
    "papermill": {
     "duration": 0.232973,
     "end_time": "2021-10-07T06:22:06.149991",
     "exception": false,
     "start_time": "2021-10-07T06:22:05.917018",
     "status": "completed"
    },
    "tags": []
   },
   "outputs": [
    {
     "data": {
      "text/html": [
       "<div>                            <div id=\"8db991b8-b390-4a2d-8912-3632d9af8a53\" class=\"plotly-graph-div\" style=\"height:800px; width:800px;\"></div>            <script type=\"text/javascript\">                require([\"plotly\"], function(Plotly) {                    window.PLOTLYENV=window.PLOTLYENV || {};                                    if (document.getElementById(\"8db991b8-b390-4a2d-8912-3632d9af8a53\")) {                    Plotly.newPlot(                        \"8db991b8-b390-4a2d-8912-3632d9af8a53\",                        [{\"branchvalues\":\"total\",\"customdata\":[[33.02439024390244],[37.8],[28.0],[36.0],[42.0],[33.285714285714285],[38.0],[32.277372262773724],[33.81818181818182],[35.535714285714285],[32.75],[35.101694915254235],[36.588235294117645],[30.428571428571427],[29.0],[29.983606557377048],[32.0],[33.27906976744186],[27.166666666666668],[30.11111111111111],[30.293367346938776],[31.0],[31.821782178217823],[31.661971830985916],[27.341463414634145],[38.857142857142854],[28.833333333333332],[47.0],[32.68325791855204],[29.38235294117647],[28.65],[23.75],[39.68181818181818],[34.42028985507246],[35.0],[35.04347826086956],[43.09803921568628],[38.92307692307692],[29.5],[37.8646288209607],[34.648648648648646],[36.833333333333336],[33.642857142857146],[33.725419664268586],[31.0],[33.178082191780824],[33.23943661971831],[30.666666666666668],[38.86507936507937],[36.138888888888886],[33.27272727272727],[29.0],[34.160409556313994],[32.0],[32.56140350877193],[31.839285714285715],[29.68888888888889],[34.309184993531694],[31.333333333333332],[33.27642276422764],[32.866028708133975],[30.27777777777778]],\"domain\":{\"x\":[0.0,1.0],\"y\":[0.0,1.0]},\"hovertemplate\":\"labels=%{label}<br>count=%{value}<br>parent=%{parent}<br>id=%{id}<br>Victim's age=%{color}<extra></extra>\",\"ids\":[\"Allegedly Armed/CA/Asian\",\"Unarmed/CA/Asian\",\"Unclear/CA/Asian\",\"Vehicle/CA/Asian\",\"Allegedly Armed/NY/Asian\",\"Allegedly Armed/TX/Asian\",\"Vehicle/TX/Asian\",\"Allegedly Armed/CA/Black\",\"Unarmed/CA/Black\",\"Unclear/CA/Black\",\"Vehicle/CA/Black\",\"Allegedly Armed/NY/Black\",\"Unarmed/NY/Black\",\"Unclear/NY/Black\",\"Vehicle/NY/Black\",\"Allegedly Armed/TX/Black\",\"Allegedly armed/TX/Black\",\"Unarmed/TX/Black\",\"Unclear/TX/Black\",\"Vehicle/TX/Black\",\"Allegedly Armed/CA/Hispanic\",\"Allegedly armed/CA/Hispanic\",\"Unarmed/CA/Hispanic\",\"Unclear/CA/Hispanic\",\"Vehicle/CA/Hispanic\",\"Allegedly Armed/NY/Hispanic\",\"Unarmed/NY/Hispanic\",\"Unclear/NY/Hispanic\",\"Allegedly Armed/TX/Hispanic\",\"Unarmed/TX/Hispanic\",\"Unclear/TX/Hispanic\",\"Vehicle/TX/Hispanic\",\"Allegedly Armed/CA/White\",\"Unarmed/CA/White\",\"Unclear/CA/White\",\"Vehicle/CA/White\",\"Allegedly Armed/NY/White\",\"Unarmed/NY/White\",\"Unclear/NY/White\",\"Allegedly Armed/TX/White\",\"Unarmed/TX/White\",\"Unclear/TX/White\",\"Vehicle/TX/White\",\"Allegedly Armed/CA\",\"Allegedly armed/CA\",\"Unarmed/CA\",\"Unclear/CA\",\"Vehicle/CA\",\"Allegedly Armed/NY\",\"Unarmed/NY\",\"Unclear/NY\",\"Vehicle/NY\",\"Allegedly Armed/TX\",\"Allegedly armed/TX\",\"Unarmed/TX\",\"Unclear/TX\",\"Vehicle/TX\",\"Allegedly Armed\",\"Allegedly armed\",\"Unarmed\",\"Unclear\",\"Vehicle\"],\"labels\":[\"Asian\",\"Asian\",\"Asian\",\"Asian\",\"Asian\",\"Asian\",\"Asian\",\"Black\",\"Black\",\"Black\",\"Black\",\"Black\",\"Black\",\"Black\",\"Black\",\"Black\",\"Black\",\"Black\",\"Black\",\"Black\",\"Hispanic\",\"Hispanic\",\"Hispanic\",\"Hispanic\",\"Hispanic\",\"Hispanic\",\"Hispanic\",\"Hispanic\",\"Hispanic\",\"Hispanic\",\"Hispanic\",\"Hispanic\",\"White\",\"White\",\"White\",\"White\",\"White\",\"White\",\"White\",\"White\",\"White\",\"White\",\"White\",\"CA\",\"CA\",\"CA\",\"CA\",\"CA\",\"NY\",\"NY\",\"NY\",\"NY\",\"TX\",\"TX\",\"TX\",\"TX\",\"TX\",\"Allegedly Armed\",\"Allegedly armed\",\"Unarmed\",\"Unclear\",\"Vehicle\"],\"marker\":{\"coloraxis\":\"coloraxis\",\"colors\":[33.02439024390244,37.8,28.0,36.0,42.0,33.285714285714285,38.0,32.277372262773724,33.81818181818182,35.535714285714285,32.75,35.101694915254235,36.588235294117645,30.428571428571427,29.0,29.983606557377048,32.0,33.27906976744186,27.166666666666668,30.11111111111111,30.293367346938776,31.0,31.821782178217823,31.661971830985916,27.341463414634145,38.857142857142854,28.833333333333332,47.0,32.68325791855204,29.38235294117647,28.65,23.75,39.68181818181818,34.42028985507246,35.0,35.04347826086956,43.09803921568628,38.92307692307692,29.5,37.8646288209607,34.648648648648646,36.833333333333336,33.642857142857146,33.725419664268586,31.0,33.178082191780824,33.23943661971831,30.666666666666668,38.86507936507937,36.138888888888886,33.27272727272727,29.0,34.160409556313994,32.0,32.56140350877193,31.839285714285715,29.68888888888889,34.309184993531694,31.333333333333332,33.27642276422764,32.866028708133975,30.27777777777778]},\"maxdepth\":-1,\"name\":\"\",\"parents\":[\"Allegedly Armed/CA\",\"Unarmed/CA\",\"Unclear/CA\",\"Vehicle/CA\",\"Allegedly Armed/NY\",\"Allegedly Armed/TX\",\"Vehicle/TX\",\"Allegedly Armed/CA\",\"Unarmed/CA\",\"Unclear/CA\",\"Vehicle/CA\",\"Allegedly Armed/NY\",\"Unarmed/NY\",\"Unclear/NY\",\"Vehicle/NY\",\"Allegedly Armed/TX\",\"Allegedly armed/TX\",\"Unarmed/TX\",\"Unclear/TX\",\"Vehicle/TX\",\"Allegedly Armed/CA\",\"Allegedly armed/CA\",\"Unarmed/CA\",\"Unclear/CA\",\"Vehicle/CA\",\"Allegedly Armed/NY\",\"Unarmed/NY\",\"Unclear/NY\",\"Allegedly Armed/TX\",\"Unarmed/TX\",\"Unclear/TX\",\"Vehicle/TX\",\"Allegedly Armed/CA\",\"Unarmed/CA\",\"Unclear/CA\",\"Vehicle/CA\",\"Allegedly Armed/NY\",\"Unarmed/NY\",\"Unclear/NY\",\"Allegedly Armed/TX\",\"Unarmed/TX\",\"Unclear/TX\",\"Vehicle/TX\",\"Allegedly Armed\",\"Allegedly armed\",\"Unarmed\",\"Unclear\",\"Vehicle\",\"Allegedly Armed\",\"Unarmed\",\"Unclear\",\"Vehicle\",\"Allegedly Armed\",\"Allegedly armed\",\"Unarmed\",\"Unclear\",\"Vehicle\",\"\",\"\",\"\",\"\",\"\"],\"textinfo\":\"label+percent parent\",\"type\":\"sunburst\",\"values\":[41,5,4,2,2,14,1,137,44,28,12,59,17,7,3,122,1,43,12,18,392,2,101,71,41,14,6,2,221,34,20,12,264,69,39,23,51,13,2,229,37,24,14,834,2,219,142,78,126,36,11,3,586,1,114,56,45,1546,3,369,209,126]}],                        {\"autosize\":false,\"coloraxis\":{\"cmax\":100,\"cmin\":10,\"colorbar\":{\"title\":{\"text\":\"Victim's age\"}},\"colorscale\":[[0.0,\"rgb(247,252,253)\"],[0.125,\"rgb(229,245,249)\"],[0.25,\"rgb(204,236,230)\"],[0.375,\"rgb(153,216,201)\"],[0.5,\"rgb(102,194,164)\"],[0.625,\"rgb(65,174,118)\"],[0.75,\"rgb(35,139,69)\"],[0.875,\"rgb(0,109,44)\"],[1.0,\"rgb(0,68,27)\"]]},\"height\":800,\"legend\":{\"tracegroupgap\":0},\"template\":{\"data\":{\"bar\":[{\"error_x\":{\"color\":\"rgb(51,51,51)\"},\"error_y\":{\"color\":\"rgb(51,51,51)\"},\"marker\":{\"line\":{\"color\":\"rgb(237,237,237)\",\"width\":0.5},\"pattern\":{\"fillmode\":\"overlay\",\"size\":10,\"solidity\":0.2}},\"type\":\"bar\"}],\"barpolar\":[{\"marker\":{\"line\":{\"color\":\"rgb(237,237,237)\",\"width\":0.5},\"pattern\":{\"fillmode\":\"overlay\",\"size\":10,\"solidity\":0.2}},\"type\":\"barpolar\"}],\"carpet\":[{\"aaxis\":{\"endlinecolor\":\"rgb(51,51,51)\",\"gridcolor\":\"white\",\"linecolor\":\"white\",\"minorgridcolor\":\"white\",\"startlinecolor\":\"rgb(51,51,51)\"},\"baxis\":{\"endlinecolor\":\"rgb(51,51,51)\",\"gridcolor\":\"white\",\"linecolor\":\"white\",\"minorgridcolor\":\"white\",\"startlinecolor\":\"rgb(51,51,51)\"},\"type\":\"carpet\"}],\"choropleth\":[{\"colorbar\":{\"outlinewidth\":0,\"tickcolor\":\"rgb(237,237,237)\",\"ticklen\":6,\"ticks\":\"inside\"},\"type\":\"choropleth\"}],\"contour\":[{\"colorbar\":{\"outlinewidth\":0,\"tickcolor\":\"rgb(237,237,237)\",\"ticklen\":6,\"ticks\":\"inside\"},\"colorscale\":[[0,\"rgb(20,44,66)\"],[1,\"rgb(90,179,244)\"]],\"type\":\"contour\"}],\"contourcarpet\":[{\"colorbar\":{\"outlinewidth\":0,\"tickcolor\":\"rgb(237,237,237)\",\"ticklen\":6,\"ticks\":\"inside\"},\"type\":\"contourcarpet\"}],\"heatmap\":[{\"colorbar\":{\"outlinewidth\":0,\"tickcolor\":\"rgb(237,237,237)\",\"ticklen\":6,\"ticks\":\"inside\"},\"colorscale\":[[0,\"rgb(20,44,66)\"],[1,\"rgb(90,179,244)\"]],\"type\":\"heatmap\"}],\"heatmapgl\":[{\"colorbar\":{\"outlinewidth\":0,\"tickcolor\":\"rgb(237,237,237)\",\"ticklen\":6,\"ticks\":\"inside\"},\"colorscale\":[[0,\"rgb(20,44,66)\"],[1,\"rgb(90,179,244)\"]],\"type\":\"heatmapgl\"}],\"histogram\":[{\"marker\":{\"pattern\":{\"fillmode\":\"overlay\",\"size\":10,\"solidity\":0.2}},\"type\":\"histogram\"}],\"histogram2d\":[{\"colorbar\":{\"outlinewidth\":0,\"tickcolor\":\"rgb(237,237,237)\",\"ticklen\":6,\"ticks\":\"inside\"},\"colorscale\":[[0,\"rgb(20,44,66)\"],[1,\"rgb(90,179,244)\"]],\"type\":\"histogram2d\"}],\"histogram2dcontour\":[{\"colorbar\":{\"outlinewidth\":0,\"tickcolor\":\"rgb(237,237,237)\",\"ticklen\":6,\"ticks\":\"inside\"},\"colorscale\":[[0,\"rgb(20,44,66)\"],[1,\"rgb(90,179,244)\"]],\"type\":\"histogram2dcontour\"}],\"mesh3d\":[{\"colorbar\":{\"outlinewidth\":0,\"tickcolor\":\"rgb(237,237,237)\",\"ticklen\":6,\"ticks\":\"inside\"},\"type\":\"mesh3d\"}],\"parcoords\":[{\"line\":{\"colorbar\":{\"outlinewidth\":0,\"tickcolor\":\"rgb(237,237,237)\",\"ticklen\":6,\"ticks\":\"inside\"}},\"type\":\"parcoords\"}],\"pie\":[{\"automargin\":true,\"type\":\"pie\"}],\"scatter\":[{\"marker\":{\"colorbar\":{\"outlinewidth\":0,\"tickcolor\":\"rgb(237,237,237)\",\"ticklen\":6,\"ticks\":\"inside\"}},\"type\":\"scatter\"}],\"scatter3d\":[{\"line\":{\"colorbar\":{\"outlinewidth\":0,\"tickcolor\":\"rgb(237,237,237)\",\"ticklen\":6,\"ticks\":\"inside\"}},\"marker\":{\"colorbar\":{\"outlinewidth\":0,\"tickcolor\":\"rgb(237,237,237)\",\"ticklen\":6,\"ticks\":\"inside\"}},\"type\":\"scatter3d\"}],\"scattercarpet\":[{\"marker\":{\"colorbar\":{\"outlinewidth\":0,\"tickcolor\":\"rgb(237,237,237)\",\"ticklen\":6,\"ticks\":\"inside\"}},\"type\":\"scattercarpet\"}],\"scattergeo\":[{\"marker\":{\"colorbar\":{\"outlinewidth\":0,\"tickcolor\":\"rgb(237,237,237)\",\"ticklen\":6,\"ticks\":\"inside\"}},\"type\":\"scattergeo\"}],\"scattergl\":[{\"marker\":{\"colorbar\":{\"outlinewidth\":0,\"tickcolor\":\"rgb(237,237,237)\",\"ticklen\":6,\"ticks\":\"inside\"}},\"type\":\"scattergl\"}],\"scattermapbox\":[{\"marker\":{\"colorbar\":{\"outlinewidth\":0,\"tickcolor\":\"rgb(237,237,237)\",\"ticklen\":6,\"ticks\":\"inside\"}},\"type\":\"scattermapbox\"}],\"scatterpolar\":[{\"marker\":{\"colorbar\":{\"outlinewidth\":0,\"tickcolor\":\"rgb(237,237,237)\",\"ticklen\":6,\"ticks\":\"inside\"}},\"type\":\"scatterpolar\"}],\"scatterpolargl\":[{\"marker\":{\"colorbar\":{\"outlinewidth\":0,\"tickcolor\":\"rgb(237,237,237)\",\"ticklen\":6,\"ticks\":\"inside\"}},\"type\":\"scatterpolargl\"}],\"scatterternary\":[{\"marker\":{\"colorbar\":{\"outlinewidth\":0,\"tickcolor\":\"rgb(237,237,237)\",\"ticklen\":6,\"ticks\":\"inside\"}},\"type\":\"scatterternary\"}],\"surface\":[{\"colorbar\":{\"outlinewidth\":0,\"tickcolor\":\"rgb(237,237,237)\",\"ticklen\":6,\"ticks\":\"inside\"},\"colorscale\":[[0,\"rgb(20,44,66)\"],[1,\"rgb(90,179,244)\"]],\"type\":\"surface\"}],\"table\":[{\"cells\":{\"fill\":{\"color\":\"rgb(237,237,237)\"},\"line\":{\"color\":\"white\"}},\"header\":{\"fill\":{\"color\":\"rgb(217,217,217)\"},\"line\":{\"color\":\"white\"}},\"type\":\"table\"}]},\"layout\":{\"annotationdefaults\":{\"arrowhead\":0,\"arrowwidth\":1},\"autotypenumbers\":\"strict\",\"coloraxis\":{\"colorbar\":{\"outlinewidth\":0,\"tickcolor\":\"rgb(237,237,237)\",\"ticklen\":6,\"ticks\":\"inside\"}},\"colorscale\":{\"sequential\":[[0,\"rgb(20,44,66)\"],[1,\"rgb(90,179,244)\"]],\"sequentialminus\":[[0,\"rgb(20,44,66)\"],[1,\"rgb(90,179,244)\"]]},\"colorway\":[\"#F8766D\",\"#A3A500\",\"#00BF7D\",\"#00B0F6\",\"#E76BF3\"],\"font\":{\"color\":\"rgb(51,51,51)\"},\"geo\":{\"bgcolor\":\"white\",\"lakecolor\":\"white\",\"landcolor\":\"rgb(237,237,237)\",\"showlakes\":true,\"showland\":true,\"subunitcolor\":\"white\"},\"hoverlabel\":{\"align\":\"left\"},\"hovermode\":\"closest\",\"paper_bgcolor\":\"white\",\"plot_bgcolor\":\"rgb(237,237,237)\",\"polar\":{\"angularaxis\":{\"gridcolor\":\"white\",\"linecolor\":\"white\",\"showgrid\":true,\"tickcolor\":\"rgb(51,51,51)\",\"ticks\":\"outside\"},\"bgcolor\":\"rgb(237,237,237)\",\"radialaxis\":{\"gridcolor\":\"white\",\"linecolor\":\"white\",\"showgrid\":true,\"tickcolor\":\"rgb(51,51,51)\",\"ticks\":\"outside\"}},\"scene\":{\"xaxis\":{\"backgroundcolor\":\"rgb(237,237,237)\",\"gridcolor\":\"white\",\"gridwidth\":2,\"linecolor\":\"white\",\"showbackground\":true,\"showgrid\":true,\"tickcolor\":\"rgb(51,51,51)\",\"ticks\":\"outside\",\"zerolinecolor\":\"white\"},\"yaxis\":{\"backgroundcolor\":\"rgb(237,237,237)\",\"gridcolor\":\"white\",\"gridwidth\":2,\"linecolor\":\"white\",\"showbackground\":true,\"showgrid\":true,\"tickcolor\":\"rgb(51,51,51)\",\"ticks\":\"outside\",\"zerolinecolor\":\"white\"},\"zaxis\":{\"backgroundcolor\":\"rgb(237,237,237)\",\"gridcolor\":\"white\",\"gridwidth\":2,\"linecolor\":\"white\",\"showbackground\":true,\"showgrid\":true,\"tickcolor\":\"rgb(51,51,51)\",\"ticks\":\"outside\",\"zerolinecolor\":\"white\"}},\"shapedefaults\":{\"fillcolor\":\"black\",\"line\":{\"width\":0},\"opacity\":0.3},\"ternary\":{\"aaxis\":{\"gridcolor\":\"white\",\"linecolor\":\"white\",\"showgrid\":true,\"tickcolor\":\"rgb(51,51,51)\",\"ticks\":\"outside\"},\"baxis\":{\"gridcolor\":\"white\",\"linecolor\":\"white\",\"showgrid\":true,\"tickcolor\":\"rgb(51,51,51)\",\"ticks\":\"outside\"},\"bgcolor\":\"rgb(237,237,237)\",\"caxis\":{\"gridcolor\":\"white\",\"linecolor\":\"white\",\"showgrid\":true,\"tickcolor\":\"rgb(51,51,51)\",\"ticks\":\"outside\"}},\"xaxis\":{\"automargin\":true,\"gridcolor\":\"white\",\"linecolor\":\"white\",\"showgrid\":true,\"tickcolor\":\"rgb(51,51,51)\",\"ticks\":\"outside\",\"title\":{\"standoff\":15},\"zerolinecolor\":\"white\"},\"yaxis\":{\"automargin\":true,\"gridcolor\":\"white\",\"linecolor\":\"white\",\"showgrid\":true,\"tickcolor\":\"rgb(51,51,51)\",\"ticks\":\"outside\",\"title\":{\"standoff\":15},\"zerolinecolor\":\"white\"}}},\"title\":{\"text\":\"7-year Breakdown of Deaths by Police - Age Focus\"},\"width\":800},                        {\"responsive\": true}                    ).then(function(){\n",
       "                            \n",
       "var gd = document.getElementById('8db991b8-b390-4a2d-8912-3632d9af8a53');\n",
       "var x = new MutationObserver(function (mutations, observer) {{\n",
       "        var display = window.getComputedStyle(gd).display;\n",
       "        if (!display || display === 'none') {{\n",
       "            console.log([gd, 'removed!']);\n",
       "            Plotly.purge(gd);\n",
       "            observer.disconnect();\n",
       "        }}\n",
       "}});\n",
       "\n",
       "// Listen for the removal of the full notebook cells\n",
       "var notebookContainer = gd.closest('#notebook-container');\n",
       "if (notebookContainer) {{\n",
       "    x.observe(notebookContainer, {childList: true});\n",
       "}}\n",
       "\n",
       "// Listen for the clearing of the current output cell\n",
       "var outputEl = gd.closest('.output');\n",
       "if (outputEl) {{\n",
       "    x.observe(outputEl, {childList: true});\n",
       "}}\n",
       "\n",
       "                        })                };                });            </script>        </div>"
      ]
     },
     "metadata": {},
     "output_type": "display_data"
    }
   ],
   "source": [
    "fig = px.sunburst(\n",
    "    data_frame=df,\n",
    "    path=[\"Armed/Unarmed Status\", 'State', \"Victim's race\"],  # Root, branches, leaves\n",
    "    #color=\"Unarmed\",\n",
    "    #color_discrete_sequence=px.colors.qualitative.Pastel,\n",
    "    maxdepth=-1,                        # set the sectors rendered. -1 will render all levels in the hierarchy\n",
    "    \n",
    "    color=\"Victim's age\",\n",
    "    color_continuous_scale=px.colors.sequential.BuGn,\n",
    "    range_color=[10,100],\n",
    "    \n",
    "     title=\"7-year Breakdown of Deaths by Police - Age Focus\",\n",
    "     template='ggplot2',\n",
    "    \n",
    ")\n",
    "\n",
    "fig.update_traces(textinfo='label+percent parent')\n",
    "fig.update_layout(\n",
    "    autosize=False,\n",
    "    width=800,\n",
    "    height=800,)\n",
    "\n",
    "fig.show()"
   ]
  },
  {
   "cell_type": "code",
   "execution_count": 9,
   "id": "4748fb76",
   "metadata": {
    "execution": {
     "iopub.execute_input": "2021-10-07T06:22:06.185811Z",
     "iopub.status.busy": "2021-10-07T06:22:06.185073Z",
     "iopub.status.idle": "2021-10-07T06:22:06.191810Z",
     "shell.execute_reply": "2021-10-07T06:22:06.192329Z",
     "shell.execute_reply.started": "2021-10-07T05:55:13.285515Z"
    },
    "papermill": {
     "duration": 0.026797,
     "end_time": "2021-10-07T06:22:06.192558",
     "exception": false,
     "start_time": "2021-10-07T06:22:06.165761",
     "status": "completed"
    },
    "tags": []
   },
   "outputs": [
    {
     "data": {
      "text/plain": [
       "784"
      ]
     },
     "execution_count": 9,
     "metadata": {},
     "output_type": "execute_result"
    }
   ],
   "source": [
    "df['Fleeing'].isna().sum()"
   ]
  },
  {
   "cell_type": "code",
   "execution_count": 10,
   "id": "3421b842",
   "metadata": {
    "execution": {
     "iopub.execute_input": "2021-10-07T06:22:06.230747Z",
     "iopub.status.busy": "2021-10-07T06:22:06.230085Z",
     "iopub.status.idle": "2021-10-07T06:22:06.241303Z",
     "shell.execute_reply": "2021-10-07T06:22:06.240283Z",
     "shell.execute_reply.started": "2021-10-07T05:55:13.297229Z"
    },
    "papermill": {
     "duration": 0.031221,
     "end_time": "2021-10-07T06:22:06.241574",
     "exception": false,
     "start_time": "2021-10-07T06:22:06.210353",
     "status": "completed"
    },
    "tags": []
   },
   "outputs": [],
   "source": [
    "df['Fleeing'].fillna('Unknown', inplace=True)\n",
    "df[\"Fleeing\"].replace({\"Not fleeing\": \"Not Fleeing\", \"not fleeing\":\"Not Fleeing\",\"other\": \"Other\",\"foot\":\"Foot\", \"car\":\"Car\"}, inplace=True)\n"
   ]
  },
  {
   "cell_type": "code",
   "execution_count": 11,
   "id": "b0c4570c",
   "metadata": {
    "execution": {
     "iopub.execute_input": "2021-10-07T06:22:06.291251Z",
     "iopub.status.busy": "2021-10-07T06:22:06.288121Z",
     "iopub.status.idle": "2021-10-07T06:22:06.450333Z",
     "shell.execute_reply": "2021-10-07T06:22:06.449710Z",
     "shell.execute_reply.started": "2021-10-07T06:09:10.149662Z"
    },
    "papermill": {
     "duration": 0.191924,
     "end_time": "2021-10-07T06:22:06.450506",
     "exception": false,
     "start_time": "2021-10-07T06:22:06.258582",
     "status": "completed"
    },
    "tags": []
   },
   "outputs": [
    {
     "data": {
      "text/html": [
       "<div>                            <div id=\"0b1639cd-43e0-4a5c-be7f-93e0f3195f27\" class=\"plotly-graph-div\" style=\"height:800px; width:800px;\"></div>            <script type=\"text/javascript\">                require([\"plotly\"], function(Plotly) {                    window.PLOTLYENV=window.PLOTLYENV || {};                                    if (document.getElementById(\"0b1639cd-43e0-4a5c-be7f-93e0f3195f27\")) {                    Plotly.newPlot(                        \"0b1639cd-43e0-4a5c-be7f-93e0f3195f27\",                        [{\"branchvalues\":\"total\",\"customdata\":[[\"Car\"],[\"Not Fleeing\"],[\"Not Fleeing\"],[\"Other\"],[\"Not Fleeing\"],[\"Other\"],[\"Other\"],[\"Not Fleeing\"],[\"Foot\"],[\"Car\"],[\"Other\"],[\"Other\"],[\"Other\"],[\"Foot\"],[\"Foot\"],[\"Unknown\"],[\"Not Fleeing\"],[\"Not Fleeing\"],[\"Other\"],[\"Car\"],[\"Not Fleeing\"],[\"Unknown\"],[\"Unknown\"],[\"Not Fleeing\"],[\"Foot\"],[\"Car\"],[\"Unknown\"],[\"Unknown\"],[\"Car\"],[\"Other\"],[\"Foot\"],[\"Foot\"],[\"Unknown\"],[\"Not Fleeing\"],[\"Unknown\"],[\"Unknown\"],[\"Not Fleeing\"],[\"Other\"],[\"Foot\"],[\"Unknown\"],[\"Foot\"],[\"Unknown\"],[\"Other\"],[\"Not Fleeing\"],[\"Not Fleeing\"],[\"Foot\"],[\"Other\"],[\"Foot\"],[\"Car\"],[\"Unknown\"],[\"Car\"],[\"Not Fleeing\"],[\"Car\"],[\"Foot\"],[\"Other\"],[\"Car\"],[\"Unknown\"],[\"Other\"],[\"Car\"],[\"Other\"],[\"Car\"],[\"Car\"],[\"Foot\"],[\"Not Fleeing\"],[\"Unknown\"],[\"Foot\"],[\"Car\"],[\"Unknown\"],[\"Not Fleeing\"],[\"Foot\"],[\"Unknown\"],[\"Foot\"],[\"Not Fleeing\"]],\"domain\":{\"x\":[0.0,1.0],\"y\":[0.0,1.0]},\"hovertemplate\":\"labels=%{label}<br>count=%{value}<br>parent=%{parent}<br>id=%{id}<br>Fleeing=%{customdata[0]}<extra></extra>\",\"ids\":[\"Car/NY/Black\",\"Not Fleeing/TX/Hispanic\",\"Not Fleeing/CA/Asian\",\"Other/CA/Asian\",\"Not Fleeing/CA/White\",\"Other/TX/White\",\"Other/CA/Hispanic\",\"Not Fleeing/CA\",\"Foot/CA\",\"Car/CA\",\"Other\",\"Other/CA/White\",\"Other/NY/White\",\"Foot/NY/Hispanic\",\"Foot/NY/Asian\",\"Unknown/CA\",\"Not Fleeing/NY\",\"Not Fleeing/TX/White\",\"Other/NY\",\"Car/NY/White\",\"Not Fleeing/TX\",\"Unknown/TX/Hispanic\",\"Unknown/TX\",\"Not Fleeing\",\"Foot/TX/Hispanic\",\"Car/TX/Hispanic\",\"Unknown/NY/Hispanic\",\"Unknown/TX/White\",\"Car/CA/Asian\",\"Other/TX/Hispanic\",\"Foot/NY/Black\",\"Foot/CA/Asian\",\"Unknown/CA/Asian\",\"Not Fleeing/NY/Asian\",\"Unknown/TX/Asian\",\"Unknown/CA/Hispanic\",\"Not Fleeing/NY/Black\",\"Other/NY/Black\",\"Foot/TX/Black\",\"Unknown\",\"Foot/CA/Hispanic\",\"Unknown/TX/Black\",\"Other/TX/Black\",\"Not Fleeing/TX/Black\",\"Not Fleeing/CA/Hispanic\",\"Foot/CA/White\",\"Other/CA/Black\",\"Foot/TX\",\"Car/CA/Hispanic\",\"Unknown/CA/White\",\"Car/TX/Black\",\"Not Fleeing/TX/Asian\",\"Car\",\"Foot\",\"Other/NY/Hispanic\",\"Car/TX\",\"Unknown/NY\",\"Other/TX\",\"Car/CA/White\",\"Other/CA\",\"Car/NY\",\"Car/CA/Black\",\"Foot/CA/Black\",\"Not Fleeing/CA/Black\",\"Unknown/CA/Black\",\"Foot/TX/White\",\"Car/TX/White\",\"Unknown/NY/White\",\"Not Fleeing/NY/White\",\"Foot/NY/White\",\"Unknown/NY/Black\",\"Foot/NY\",\"Not Fleeing/NY/Hispanic\"],\"labels\":[\"Black\",\"Hispanic\",\"Asian\",\"Asian\",\"White\",\"White\",\"Hispanic\",\"CA\",\"CA\",\"CA\",\"Other\",\"White\",\"White\",\"Hispanic\",\"Asian\",\"CA\",\"NY\",\"White\",\"NY\",\"White\",\"TX\",\"Hispanic\",\"TX\",\"Not Fleeing\",\"Hispanic\",\"Hispanic\",\"Hispanic\",\"White\",\"Asian\",\"Hispanic\",\"Black\",\"Asian\",\"Asian\",\"Asian\",\"Asian\",\"Hispanic\",\"Black\",\"Black\",\"Black\",\"Unknown\",\"Hispanic\",\"Black\",\"Black\",\"Black\",\"Hispanic\",\"White\",\"Black\",\"TX\",\"Hispanic\",\"White\",\"Black\",\"Asian\",\"Car\",\"Foot\",\"Hispanic\",\"TX\",\"NY\",\"TX\",\"White\",\"CA\",\"NY\",\"Black\",\"Black\",\"Black\",\"Black\",\"White\",\"White\",\"White\",\"White\",\"White\",\"Black\",\"NY\",\"Hispanic\"],\"marker\":{\"colors\":[\"rgb(102, 197, 204)\",\"rgb(246, 207, 113)\",\"rgb(246, 207, 113)\",\"rgb(248, 156, 116)\",\"rgb(246, 207, 113)\",\"rgb(248, 156, 116)\",\"rgb(248, 156, 116)\",\"rgb(246, 207, 113)\",\"rgb(220, 176, 242)\",\"rgb(102, 197, 204)\",\"rgb(248, 156, 116)\",\"rgb(248, 156, 116)\",\"rgb(248, 156, 116)\",\"rgb(220, 176, 242)\",\"rgb(220, 176, 242)\",\"rgb(135, 197, 95)\",\"rgb(246, 207, 113)\",\"rgb(246, 207, 113)\",\"rgb(248, 156, 116)\",\"rgb(102, 197, 204)\",\"rgb(246, 207, 113)\",\"rgb(135, 197, 95)\",\"rgb(135, 197, 95)\",\"rgb(246, 207, 113)\",\"rgb(220, 176, 242)\",\"rgb(102, 197, 204)\",\"rgb(135, 197, 95)\",\"rgb(135, 197, 95)\",\"rgb(102, 197, 204)\",\"rgb(248, 156, 116)\",\"rgb(220, 176, 242)\",\"rgb(220, 176, 242)\",\"rgb(135, 197, 95)\",\"rgb(246, 207, 113)\",\"rgb(135, 197, 95)\",\"rgb(135, 197, 95)\",\"rgb(246, 207, 113)\",\"rgb(248, 156, 116)\",\"rgb(220, 176, 242)\",\"rgb(135, 197, 95)\",\"rgb(220, 176, 242)\",\"rgb(135, 197, 95)\",\"rgb(248, 156, 116)\",\"rgb(246, 207, 113)\",\"rgb(246, 207, 113)\",\"rgb(220, 176, 242)\",\"rgb(248, 156, 116)\",\"rgb(220, 176, 242)\",\"rgb(102, 197, 204)\",\"rgb(135, 197, 95)\",\"rgb(102, 197, 204)\",\"rgb(246, 207, 113)\",\"rgb(102, 197, 204)\",\"rgb(220, 176, 242)\",\"rgb(248, 156, 116)\",\"rgb(102, 197, 204)\",\"rgb(135, 197, 95)\",\"rgb(248, 156, 116)\",\"rgb(102, 197, 204)\",\"rgb(248, 156, 116)\",\"rgb(102, 197, 204)\",\"rgb(102, 197, 204)\",\"rgb(220, 176, 242)\",\"rgb(246, 207, 113)\",\"rgb(135, 197, 95)\",\"rgb(220, 176, 242)\",\"rgb(102, 197, 204)\",\"rgb(135, 197, 95)\",\"rgb(246, 207, 113)\",\"rgb(220, 176, 242)\",\"rgb(135, 197, 95)\",\"rgb(220, 176, 242)\",\"rgb(246, 207, 113)\"]},\"maxdepth\":-1,\"name\":\"\",\"parents\":[\"Car/NY\",\"Not Fleeing/TX\",\"Not Fleeing/CA\",\"Other/CA\",\"Not Fleeing/CA\",\"Other/TX\",\"Other/CA\",\"Not Fleeing\",\"Foot\",\"Car\",\"\",\"Other/CA\",\"Other/NY\",\"Foot/NY\",\"Foot/NY\",\"Unknown\",\"Not Fleeing\",\"Not Fleeing/TX\",\"Other\",\"Car/NY\",\"Not Fleeing\",\"Unknown/TX\",\"Unknown\",\"\",\"Foot/TX\",\"Car/TX\",\"Unknown/NY\",\"Unknown/TX\",\"Car/CA\",\"Other/TX\",\"Foot/NY\",\"Foot/CA\",\"Unknown/CA\",\"Not Fleeing/NY\",\"Unknown/TX\",\"Unknown/CA\",\"Not Fleeing/NY\",\"Other/NY\",\"Foot/TX\",\"\",\"Foot/CA\",\"Unknown/TX\",\"Other/TX\",\"Not Fleeing/TX\",\"Not Fleeing/CA\",\"Foot/CA\",\"Other/CA\",\"Foot\",\"Car/CA\",\"Unknown/CA\",\"Car/TX\",\"Not Fleeing/TX\",\"\",\"\",\"Other/NY\",\"Car\",\"Unknown\",\"Other\",\"Car/CA\",\"Other\",\"Car\",\"Car/CA\",\"Foot/CA\",\"Not Fleeing/CA\",\"Unknown/CA\",\"Foot/TX\",\"Car/TX\",\"Unknown/NY\",\"Not Fleeing/NY\",\"Foot/NY\",\"Unknown/NY\",\"Foot\",\"Not Fleeing/NY\"],\"textinfo\":\"label+percent parent\",\"type\":\"sunburst\",\"values\":[4,127,21,2,183,14,19,566,123,127,50,5,2,4,1,432,73,132,4,7,338,100,287,977,22,34,8,107,4,4,14,6,19,1,7,211,33,1,27,784,59,73,1,71,263,26,1,70,55,136,24,8,226,216,1,88,65,19,45,27,11,23,32,99,66,21,30,23,30,4,34,23,9]}],                        {\"autosize\":false,\"height\":800,\"legend\":{\"tracegroupgap\":0},\"sunburstcolorway\":[\"rgb(102, 197, 204)\",\"rgb(246, 207, 113)\",\"rgb(248, 156, 116)\",\"rgb(220, 176, 242)\",\"rgb(135, 197, 95)\",\"rgb(158, 185, 243)\",\"rgb(254, 136, 177)\",\"rgb(201, 219, 116)\",\"rgb(139, 224, 164)\",\"rgb(180, 151, 231)\",\"rgb(179, 179, 179)\"],\"template\":{\"data\":{\"bar\":[{\"error_x\":{\"color\":\"rgb(51,51,51)\"},\"error_y\":{\"color\":\"rgb(51,51,51)\"},\"marker\":{\"line\":{\"color\":\"rgb(237,237,237)\",\"width\":0.5},\"pattern\":{\"fillmode\":\"overlay\",\"size\":10,\"solidity\":0.2}},\"type\":\"bar\"}],\"barpolar\":[{\"marker\":{\"line\":{\"color\":\"rgb(237,237,237)\",\"width\":0.5},\"pattern\":{\"fillmode\":\"overlay\",\"size\":10,\"solidity\":0.2}},\"type\":\"barpolar\"}],\"carpet\":[{\"aaxis\":{\"endlinecolor\":\"rgb(51,51,51)\",\"gridcolor\":\"white\",\"linecolor\":\"white\",\"minorgridcolor\":\"white\",\"startlinecolor\":\"rgb(51,51,51)\"},\"baxis\":{\"endlinecolor\":\"rgb(51,51,51)\",\"gridcolor\":\"white\",\"linecolor\":\"white\",\"minorgridcolor\":\"white\",\"startlinecolor\":\"rgb(51,51,51)\"},\"type\":\"carpet\"}],\"choropleth\":[{\"colorbar\":{\"outlinewidth\":0,\"tickcolor\":\"rgb(237,237,237)\",\"ticklen\":6,\"ticks\":\"inside\"},\"type\":\"choropleth\"}],\"contour\":[{\"colorbar\":{\"outlinewidth\":0,\"tickcolor\":\"rgb(237,237,237)\",\"ticklen\":6,\"ticks\":\"inside\"},\"colorscale\":[[0,\"rgb(20,44,66)\"],[1,\"rgb(90,179,244)\"]],\"type\":\"contour\"}],\"contourcarpet\":[{\"colorbar\":{\"outlinewidth\":0,\"tickcolor\":\"rgb(237,237,237)\",\"ticklen\":6,\"ticks\":\"inside\"},\"type\":\"contourcarpet\"}],\"heatmap\":[{\"colorbar\":{\"outlinewidth\":0,\"tickcolor\":\"rgb(237,237,237)\",\"ticklen\":6,\"ticks\":\"inside\"},\"colorscale\":[[0,\"rgb(20,44,66)\"],[1,\"rgb(90,179,244)\"]],\"type\":\"heatmap\"}],\"heatmapgl\":[{\"colorbar\":{\"outlinewidth\":0,\"tickcolor\":\"rgb(237,237,237)\",\"ticklen\":6,\"ticks\":\"inside\"},\"colorscale\":[[0,\"rgb(20,44,66)\"],[1,\"rgb(90,179,244)\"]],\"type\":\"heatmapgl\"}],\"histogram\":[{\"marker\":{\"pattern\":{\"fillmode\":\"overlay\",\"size\":10,\"solidity\":0.2}},\"type\":\"histogram\"}],\"histogram2d\":[{\"colorbar\":{\"outlinewidth\":0,\"tickcolor\":\"rgb(237,237,237)\",\"ticklen\":6,\"ticks\":\"inside\"},\"colorscale\":[[0,\"rgb(20,44,66)\"],[1,\"rgb(90,179,244)\"]],\"type\":\"histogram2d\"}],\"histogram2dcontour\":[{\"colorbar\":{\"outlinewidth\":0,\"tickcolor\":\"rgb(237,237,237)\",\"ticklen\":6,\"ticks\":\"inside\"},\"colorscale\":[[0,\"rgb(20,44,66)\"],[1,\"rgb(90,179,244)\"]],\"type\":\"histogram2dcontour\"}],\"mesh3d\":[{\"colorbar\":{\"outlinewidth\":0,\"tickcolor\":\"rgb(237,237,237)\",\"ticklen\":6,\"ticks\":\"inside\"},\"type\":\"mesh3d\"}],\"parcoords\":[{\"line\":{\"colorbar\":{\"outlinewidth\":0,\"tickcolor\":\"rgb(237,237,237)\",\"ticklen\":6,\"ticks\":\"inside\"}},\"type\":\"parcoords\"}],\"pie\":[{\"automargin\":true,\"type\":\"pie\"}],\"scatter\":[{\"marker\":{\"colorbar\":{\"outlinewidth\":0,\"tickcolor\":\"rgb(237,237,237)\",\"ticklen\":6,\"ticks\":\"inside\"}},\"type\":\"scatter\"}],\"scatter3d\":[{\"line\":{\"colorbar\":{\"outlinewidth\":0,\"tickcolor\":\"rgb(237,237,237)\",\"ticklen\":6,\"ticks\":\"inside\"}},\"marker\":{\"colorbar\":{\"outlinewidth\":0,\"tickcolor\":\"rgb(237,237,237)\",\"ticklen\":6,\"ticks\":\"inside\"}},\"type\":\"scatter3d\"}],\"scattercarpet\":[{\"marker\":{\"colorbar\":{\"outlinewidth\":0,\"tickcolor\":\"rgb(237,237,237)\",\"ticklen\":6,\"ticks\":\"inside\"}},\"type\":\"scattercarpet\"}],\"scattergeo\":[{\"marker\":{\"colorbar\":{\"outlinewidth\":0,\"tickcolor\":\"rgb(237,237,237)\",\"ticklen\":6,\"ticks\":\"inside\"}},\"type\":\"scattergeo\"}],\"scattergl\":[{\"marker\":{\"colorbar\":{\"outlinewidth\":0,\"tickcolor\":\"rgb(237,237,237)\",\"ticklen\":6,\"ticks\":\"inside\"}},\"type\":\"scattergl\"}],\"scattermapbox\":[{\"marker\":{\"colorbar\":{\"outlinewidth\":0,\"tickcolor\":\"rgb(237,237,237)\",\"ticklen\":6,\"ticks\":\"inside\"}},\"type\":\"scattermapbox\"}],\"scatterpolar\":[{\"marker\":{\"colorbar\":{\"outlinewidth\":0,\"tickcolor\":\"rgb(237,237,237)\",\"ticklen\":6,\"ticks\":\"inside\"}},\"type\":\"scatterpolar\"}],\"scatterpolargl\":[{\"marker\":{\"colorbar\":{\"outlinewidth\":0,\"tickcolor\":\"rgb(237,237,237)\",\"ticklen\":6,\"ticks\":\"inside\"}},\"type\":\"scatterpolargl\"}],\"scatterternary\":[{\"marker\":{\"colorbar\":{\"outlinewidth\":0,\"tickcolor\":\"rgb(237,237,237)\",\"ticklen\":6,\"ticks\":\"inside\"}},\"type\":\"scatterternary\"}],\"surface\":[{\"colorbar\":{\"outlinewidth\":0,\"tickcolor\":\"rgb(237,237,237)\",\"ticklen\":6,\"ticks\":\"inside\"},\"colorscale\":[[0,\"rgb(20,44,66)\"],[1,\"rgb(90,179,244)\"]],\"type\":\"surface\"}],\"table\":[{\"cells\":{\"fill\":{\"color\":\"rgb(237,237,237)\"},\"line\":{\"color\":\"white\"}},\"header\":{\"fill\":{\"color\":\"rgb(217,217,217)\"},\"line\":{\"color\":\"white\"}},\"type\":\"table\"}]},\"layout\":{\"annotationdefaults\":{\"arrowhead\":0,\"arrowwidth\":1},\"autotypenumbers\":\"strict\",\"coloraxis\":{\"colorbar\":{\"outlinewidth\":0,\"tickcolor\":\"rgb(237,237,237)\",\"ticklen\":6,\"ticks\":\"inside\"}},\"colorscale\":{\"sequential\":[[0,\"rgb(20,44,66)\"],[1,\"rgb(90,179,244)\"]],\"sequentialminus\":[[0,\"rgb(20,44,66)\"],[1,\"rgb(90,179,244)\"]]},\"colorway\":[\"#F8766D\",\"#A3A500\",\"#00BF7D\",\"#00B0F6\",\"#E76BF3\"],\"font\":{\"color\":\"rgb(51,51,51)\"},\"geo\":{\"bgcolor\":\"white\",\"lakecolor\":\"white\",\"landcolor\":\"rgb(237,237,237)\",\"showlakes\":true,\"showland\":true,\"subunitcolor\":\"white\"},\"hoverlabel\":{\"align\":\"left\"},\"hovermode\":\"closest\",\"paper_bgcolor\":\"white\",\"plot_bgcolor\":\"rgb(237,237,237)\",\"polar\":{\"angularaxis\":{\"gridcolor\":\"white\",\"linecolor\":\"white\",\"showgrid\":true,\"tickcolor\":\"rgb(51,51,51)\",\"ticks\":\"outside\"},\"bgcolor\":\"rgb(237,237,237)\",\"radialaxis\":{\"gridcolor\":\"white\",\"linecolor\":\"white\",\"showgrid\":true,\"tickcolor\":\"rgb(51,51,51)\",\"ticks\":\"outside\"}},\"scene\":{\"xaxis\":{\"backgroundcolor\":\"rgb(237,237,237)\",\"gridcolor\":\"white\",\"gridwidth\":2,\"linecolor\":\"white\",\"showbackground\":true,\"showgrid\":true,\"tickcolor\":\"rgb(51,51,51)\",\"ticks\":\"outside\",\"zerolinecolor\":\"white\"},\"yaxis\":{\"backgroundcolor\":\"rgb(237,237,237)\",\"gridcolor\":\"white\",\"gridwidth\":2,\"linecolor\":\"white\",\"showbackground\":true,\"showgrid\":true,\"tickcolor\":\"rgb(51,51,51)\",\"ticks\":\"outside\",\"zerolinecolor\":\"white\"},\"zaxis\":{\"backgroundcolor\":\"rgb(237,237,237)\",\"gridcolor\":\"white\",\"gridwidth\":2,\"linecolor\":\"white\",\"showbackground\":true,\"showgrid\":true,\"tickcolor\":\"rgb(51,51,51)\",\"ticks\":\"outside\",\"zerolinecolor\":\"white\"}},\"shapedefaults\":{\"fillcolor\":\"black\",\"line\":{\"width\":0},\"opacity\":0.3},\"ternary\":{\"aaxis\":{\"gridcolor\":\"white\",\"linecolor\":\"white\",\"showgrid\":true,\"tickcolor\":\"rgb(51,51,51)\",\"ticks\":\"outside\"},\"baxis\":{\"gridcolor\":\"white\",\"linecolor\":\"white\",\"showgrid\":true,\"tickcolor\":\"rgb(51,51,51)\",\"ticks\":\"outside\"},\"bgcolor\":\"rgb(237,237,237)\",\"caxis\":{\"gridcolor\":\"white\",\"linecolor\":\"white\",\"showgrid\":true,\"tickcolor\":\"rgb(51,51,51)\",\"ticks\":\"outside\"}},\"xaxis\":{\"automargin\":true,\"gridcolor\":\"white\",\"linecolor\":\"white\",\"showgrid\":true,\"tickcolor\":\"rgb(51,51,51)\",\"ticks\":\"outside\",\"title\":{\"standoff\":15},\"zerolinecolor\":\"white\"},\"yaxis\":{\"automargin\":true,\"gridcolor\":\"white\",\"linecolor\":\"white\",\"showgrid\":true,\"tickcolor\":\"rgb(51,51,51)\",\"ticks\":\"outside\",\"title\":{\"standoff\":15},\"zerolinecolor\":\"white\"}}},\"title\":{\"text\":\"7-year Breakdown of Deaths by Police - Fleeing vs Non-Fleeing\"},\"width\":800},                        {\"responsive\": true}                    ).then(function(){\n",
       "                            \n",
       "var gd = document.getElementById('0b1639cd-43e0-4a5c-be7f-93e0f3195f27');\n",
       "var x = new MutationObserver(function (mutations, observer) {{\n",
       "        var display = window.getComputedStyle(gd).display;\n",
       "        if (!display || display === 'none') {{\n",
       "            console.log([gd, 'removed!']);\n",
       "            Plotly.purge(gd);\n",
       "            observer.disconnect();\n",
       "        }}\n",
       "}});\n",
       "\n",
       "// Listen for the removal of the full notebook cells\n",
       "var notebookContainer = gd.closest('#notebook-container');\n",
       "if (notebookContainer) {{\n",
       "    x.observe(notebookContainer, {childList: true});\n",
       "}}\n",
       "\n",
       "// Listen for the clearing of the current output cell\n",
       "var outputEl = gd.closest('.output');\n",
       "if (outputEl) {{\n",
       "    x.observe(outputEl, {childList: true});\n",
       "}}\n",
       "\n",
       "                        })                };                });            </script>        </div>"
      ]
     },
     "metadata": {},
     "output_type": "display_data"
    }
   ],
   "source": [
    "fig = px.sunburst(\n",
    "    data_frame=df,\n",
    "    path=[\"Fleeing\", 'State', \"Victim's race\"],  # Root, branches, leaves\n",
    "    color=\"Fleeing\",\n",
    "    color_discrete_sequence=px.colors.qualitative.Pastel,\n",
    "    maxdepth=-1,  \n",
    "    \n",
    "    title=\"7-year Breakdown of Deaths by Police - Fleeing vs Non-Fleeing\",\n",
    "    template='ggplot2',\n",
    ")\n",
    "fig.update_traces(textinfo='label+percent parent')\n",
    "fig.update_layout(\n",
    "    autosize=False,\n",
    "    width=800,\n",
    "    height=800,)\n",
    "\n",
    "fig.show()"
   ]
  }
 ],
 "metadata": {
  "kernelspec": {
   "display_name": "Python 3",
   "language": "python",
   "name": "python3"
  },
  "language_info": {
   "codemirror_mode": {
    "name": "ipython",
    "version": 3
   },
   "file_extension": ".py",
   "mimetype": "text/x-python",
   "name": "python",
   "nbconvert_exporter": "python",
   "pygments_lexer": "ipython3",
   "version": "3.7.10"
  },
  "papermill": {
   "default_parameters": {},
   "duration": 14.921147,
   "end_time": "2021-10-07T06:22:07.180058",
   "environment_variables": {},
   "exception": null,
   "input_path": "__notebook__.ipynb",
   "output_path": "__notebook__.ipynb",
   "parameters": {},
   "start_time": "2021-10-07T06:21:52.258911",
   "version": "2.3.3"
  }
 },
 "nbformat": 4,
 "nbformat_minor": 5
}
